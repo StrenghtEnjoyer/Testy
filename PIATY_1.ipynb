{
  "nbformat": 4,
  "nbformat_minor": 0,
  "metadata": {
    "colab": {
      "provenance": []
    },
    "kernelspec": {
      "name": "python3",
      "display_name": "Python 3"
    },
    "language_info": {
      "name": "python"
    }
  },
  "cells": [
    {
      "cell_type": "code",
      "execution_count": 5,
      "metadata": {
        "colab": {
          "base_uri": "https://localhost:8080/"
        },
        "id": "Ojb_bDOvxWUC",
        "outputId": "d4e10f34-567e-4485-d5ab-8ce6038c7234"
      },
      "outputs": [
        {
          "output_type": "stream",
          "name": "stdout",
          "text": [
            "Requirement already satisfied: nltk in /usr/local/lib/python3.10/dist-packages (3.8.1)\n",
            "Requirement already satisfied: click in /usr/local/lib/python3.10/dist-packages (from nltk) (8.1.7)\n",
            "Requirement already satisfied: joblib in /usr/local/lib/python3.10/dist-packages (from nltk) (1.3.2)\n",
            "Requirement already satisfied: regex>=2021.8.3 in /usr/local/lib/python3.10/dist-packages (from nltk) (2023.12.25)\n",
            "Requirement already satisfied: tqdm in /usr/local/lib/python3.10/dist-packages (from nltk) (4.66.2)\n"
          ]
        }
      ],
      "source": [
        "!pip install nltk"
      ]
    },
    {
      "cell_type": "code",
      "source": [
        "!pip install gensim"
      ],
      "metadata": {
        "colab": {
          "base_uri": "https://localhost:8080/"
        },
        "id": "zBAFrtIYxcIh",
        "outputId": "9eb11e3d-3e67-4e6c-91bb-830eca923cad"
      },
      "execution_count": 6,
      "outputs": [
        {
          "output_type": "stream",
          "name": "stdout",
          "text": [
            "Requirement already satisfied: gensim in /usr/local/lib/python3.10/dist-packages (4.3.2)\n",
            "Requirement already satisfied: numpy>=1.18.5 in /usr/local/lib/python3.10/dist-packages (from gensim) (1.25.2)\n",
            "Requirement already satisfied: scipy>=1.7.0 in /usr/local/lib/python3.10/dist-packages (from gensim) (1.11.4)\n",
            "Requirement already satisfied: smart-open>=1.8.1 in /usr/local/lib/python3.10/dist-packages (from gensim) (6.4.0)\n"
          ]
        }
      ]
    },
    {
      "cell_type": "code",
      "source": [
        "import nltk\n",
        "\n",
        "nltk.download('brown')\n",
        "\n",
        "from nltk.corpus import brown\n",
        "\n",
        "sentences = brown.sents()\n",
        "for sentence in sentences[:5]:\n",
        "  print(' '.join(sentence))\n",
        "\n"
      ],
      "metadata": {
        "colab": {
          "base_uri": "https://localhost:8080/"
        },
        "id": "_rElt9kuxjih",
        "outputId": "a4b2d962-a1b5-46c6-e183-5da128ec1fef"
      },
      "execution_count": 7,
      "outputs": [
        {
          "output_type": "stream",
          "name": "stdout",
          "text": [
            "The Fulton County Grand Jury said Friday an investigation of Atlanta's recent primary election produced `` no evidence '' that any irregularities took place .\n",
            "The jury further said in term-end presentments that the City Executive Committee , which had over-all charge of the election , `` deserves the praise and thanks of the City of Atlanta '' for the manner in which the election was conducted .\n",
            "The September-October term jury had been charged by Fulton Superior Court Judge Durwood Pye to investigate reports of possible `` irregularities '' in the hard-fought primary which was won by Mayor-nominate Ivan Allen Jr. .\n",
            "`` Only a relative handful of such reports was received '' , the jury said , `` considering the widespread interest in the election , the number of voters and the size of this city '' .\n",
            "The jury said it did find that many of Georgia's registration and election laws `` are outmoded or inadequate and often ambiguous '' .\n"
          ]
        },
        {
          "output_type": "stream",
          "name": "stderr",
          "text": [
            "[nltk_data] Downloading package brown to /root/nltk_data...\n",
            "[nltk_data]   Package brown is already up-to-date!\n"
          ]
        }
      ]
    },
    {
      "cell_type": "code",
      "source": [
        "brown_words = ' '.join(brown.words())\n",
        "brown_words = brown_words.lower()\n",
        "print(brown_words[0:100])\n",
        "\n",
        "from nltk.corpus import stopwords\n",
        "from nltk.tokenize import word_tokenize\n",
        "import re\n",
        "\n",
        "brown_words = re.sub(r\"[^\\w\\s]\", \" \", brown_words)\n",
        "nltk.download('punkt')\n",
        "nltk.download('stopwords')\n",
        "stop_words = set(stopwords.words('english'))\n",
        "brown_tokens = word_tokenize(brown_words)\n",
        "filtered_brown = [i for i in brown_tokens if not i.lower() in stop_words]\n",
        "print(filtered_brown[0:10])\n",
        "print(brown_tokens[0:10])\n",
        "\n",
        "\n"
      ],
      "metadata": {
        "colab": {
          "base_uri": "https://localhost:8080/"
        },
        "id": "Zj-vwa637PWc",
        "outputId": "1263ddeb-a49f-4fa4-b5f7-9994dd5c1cbe"
      },
      "execution_count": 8,
      "outputs": [
        {
          "output_type": "stream",
          "name": "stdout",
          "text": [
            "the fulton county grand jury said friday an investigation of atlanta's recent primary election produ\n"
          ]
        },
        {
          "output_type": "stream",
          "name": "stderr",
          "text": [
            "[nltk_data] Downloading package punkt to /root/nltk_data...\n",
            "[nltk_data]   Unzipping tokenizers/punkt.zip.\n",
            "[nltk_data] Downloading package stopwords to /root/nltk_data...\n",
            "[nltk_data]   Unzipping corpora/stopwords.zip.\n"
          ]
        },
        {
          "output_type": "stream",
          "name": "stdout",
          "text": [
            "['fulton', 'county', 'grand', 'jury', 'said', 'friday', 'investigation', 'atlanta', 'recent', 'primary']\n",
            "['the', 'fulton', 'county', 'grand', 'jury', 'said', 'friday', 'an', 'investigation', 'of']\n"
          ]
        }
      ]
    },
    {
      "cell_type": "code",
      "source": [
        "full_brown = []\n",
        "for sentence in sentences:\n",
        "  test = \" \".join(sentence)\n",
        "  test = test.lower()\n",
        "  test = re.sub(r\"[^\\w\\s]\", \" \", test)\n",
        "  sentence_tokens = word_tokenize(test)\n",
        "  filtered_tokens = [i for i in sentence_tokens if not i.lower() in stop_words]\n",
        "  full_brown.append(filtered_tokens)\n",
        "print(full_brown[0])"
      ],
      "metadata": {
        "colab": {
          "base_uri": "https://localhost:8080/"
        },
        "id": "T275lO6NEHKw",
        "outputId": "4a398fa6-da8b-4214-98a9-5deee0e281ee"
      },
      "execution_count": 9,
      "outputs": [
        {
          "output_type": "stream",
          "name": "stdout",
          "text": [
            "['fulton', 'county', 'grand', 'jury', 'said', 'friday', 'investigation', 'atlanta', 'recent', 'primary', 'election', 'produced', 'evidence', 'irregularities', 'took', 'place']\n"
          ]
        }
      ]
    },
    {
      "cell_type": "code",
      "source": [
        "!pip install --upgrade gensim"
      ],
      "metadata": {
        "colab": {
          "base_uri": "https://localhost:8080/"
        },
        "id": "9gyXWhVPBAqn",
        "outputId": "3395fd10-a633-4f29-9015-d652702b9ce8"
      },
      "execution_count": 10,
      "outputs": [
        {
          "output_type": "stream",
          "name": "stdout",
          "text": [
            "Requirement already satisfied: gensim in /usr/local/lib/python3.10/dist-packages (4.3.2)\n",
            "Requirement already satisfied: numpy>=1.18.5 in /usr/local/lib/python3.10/dist-packages (from gensim) (1.25.2)\n",
            "Requirement already satisfied: scipy>=1.7.0 in /usr/local/lib/python3.10/dist-packages (from gensim) (1.11.4)\n",
            "Requirement already satisfied: smart-open>=1.8.1 in /usr/local/lib/python3.10/dist-packages (from gensim) (6.4.0)\n"
          ]
        }
      ]
    },
    {
      "cell_type": "code",
      "source": [
        "from gensim.models import Word2Vec\n",
        "\n",
        "model = Word2Vec(sentences=full_brown, vector_size=100, window=5, min_count=5, workers=4, epochs=5)\n",
        "#model.save()"
      ],
      "metadata": {
        "id": "9Qf7I33hBTuv"
      },
      "execution_count": 11,
      "outputs": []
    },
    {
      "cell_type": "code",
      "source": [
        "similar_words = model.wv.most_similar(\"king\", topn=5)\n",
        "print(\"Most similar words to 'king':\", similar_words)\n",
        "similar_words = model.wv.most_similar(\"queen\", topn=5)\n",
        "print(\"Most similar words to 'queen':\", similar_words)\n",
        "similar_words = model.wv.most_similar(\"man\", topn=5)\n",
        "print(\"Most similar words to 'man':\", similar_words)\n",
        "similar_words = model.wv.most_similar(\"woman\", topn=5)\n",
        "print(\"Most similar words to 'woman':\", similar_words)\n",
        "similar_words = model.wv.most_similar(\"friday\", topn=5)\n",
        "print(\"Most similar words to 'friday':\", similar_words)\n",
        "similar_words = model.wv.most_similar(\"said\", topn=5)\n",
        "print(\"Most similar words to 'said':\", similar_words)\n",
        "similar_words = model.wv.most_similar(\"gold\", topn=5)\n",
        "print(\"Most similar words to 'gold':\", similar_words)\n",
        "similar_words = model.wv.most_similar(\"recent\", topn=5)\n",
        "print(\"Most similar words to 'recent':\", similar_words)\n",
        "similar_words = model.wv.most_similar(\"took\", topn=5)\n",
        "print(\"Most similar words to 'took':\", similar_words)\n",
        "similar_words = model.wv.most_similar(\"place\", topn=5)\n",
        "print(\"Most similar words to 'place':\", similar_words)\n",
        "# Perform vector arithmetic: king - man + woman\n",
        "result = model.wv.most_similar(positive=[\"king\", \"woman\"], negative=[\"man\"], topn=1)\n",
        "print(\"Result of 'king' - 'man' + 'woman':\", result)\n",
        "\n",
        "result = model.wv.most_similar(positive=[\"king\", \"man\"], negative=[\"woman\"], topn=1)\n",
        "print(\"Result of 'king' - 'woman' + 'man':\", result)\n",
        "\n",
        "result = model.wv.most_similar(positive=[\"queen\", \"man\"], negative=[\"woman\"], topn=1)\n",
        "print(\"Result of 'queen' - 'woman' + 'man':\", result)\n",
        "\n",
        "result = model.wv.most_similar(positive=[\"man\", \"woman\"], negative=[\"king\"], topn=1)\n",
        "print(\"Result of 'man' - 'king' + 'woman':\", result)\n",
        "\n",
        "result = model.wv.most_similar(positive=[\"woman\", \"man\"], negative=[\"queen\"], topn=1)\n",
        "print(\"Result of 'woman' - 'queen' + 'man':\", result)"
      ],
      "metadata": {
        "colab": {
          "base_uri": "https://localhost:8080/"
        },
        "id": "2totJsKkCDuH",
        "outputId": "7cc9d43e-26fa-4712-a1eb-d7f5a8396ebe"
      },
      "execution_count": 16,
      "outputs": [
        {
          "output_type": "stream",
          "name": "stdout",
          "text": [
            "Most similar words to 'king': [('wooden', 0.9992591738700867), ('film', 0.9992533326148987), ('beach', 0.9992402791976929), ('wire', 0.9992173910140991), ('showed', 0.999208927154541)]\n",
            "Most similar words to 'queen': [('opera', 0.9988185167312622), ('telephone', 0.9984813332557678), ('team', 0.9984732270240784), ('crisis', 0.9984037280082703), ('manager', 0.9983911514282227)]\n",
            "Most similar words to 'man': [('good', 0.9655289649963379), ('like', 0.9607147574424744), ('thing', 0.9605751037597656), ('things', 0.9576839804649353), ('never', 0.9498549103736877)]\n",
            "Most similar words to 'woman': [('seemed', 0.996252179145813), ('moment', 0.9956110715866089), ('wife', 0.9952452182769775), ('happened', 0.9950217008590698), ('remember', 0.9948934316635132)]\n",
            "Most similar words to 'friday': [('bob', 0.9992660284042358), ('ship', 0.9991790056228638), ('ships', 0.9991692900657654), ('king', 0.9991592764854431), ('begun', 0.9991539120674133)]\n",
            "Most similar words to 'said': [('never', 0.9867181777954102), ('say', 0.9854220747947693), ('like', 0.9843751192092896), ('let', 0.984362006187439), ('something', 0.9837255477905273)]\n",
            "Most similar words to 'gold': [('silver', 0.9993250966072083), ('rapid', 0.9993104338645935), ('burning', 0.9993014335632324), ('beneath', 0.9993008971214294), ('placed', 0.9992857575416565)]\n",
            "Most similar words to 'recent': [('eighteen', 0.9903867244720459), ('nineteen', 0.9898228645324707), ('counties', 0.9897027015686035), ('college', 0.9896018505096436), ('fourteen', 0.9895187616348267)]\n",
            "Most similar words to 'took': [('afternoon', 0.996585488319397), ('summer', 0.996576726436615), ('boys', 0.9961943626403809), ('third', 0.9960148334503174), ('started', 0.9953786134719849)]\n",
            "Most similar words to 'place': [('happened', 0.9916682839393616), ('moment', 0.9904681444168091), ('seen', 0.990437388420105), ('woman', 0.9904074668884277), ('saw', 0.9903392791748047)]\n",
            "Result of 'king' - 'man' + 'woman': [('sales', 0.9910556674003601)]\n",
            "Result of 'king' - 'woman' + 'man': [('told', 0.9808560013771057)]\n",
            "Result of 'queen' - 'woman' + 'man': [('come', 0.9794467091560364)]\n",
            "Result of 'man' - 'king' + 'woman': [('know', 0.9302007555961609)]\n",
            "Result of 'woman' - 'queen' + 'man': [('never', 0.930387020111084)]\n"
          ]
        }
      ]
    },
    {
      "cell_type": "code",
      "source": [
        "import gensim.downloader as api\n",
        "\n",
        "text8 = api.load('text8')"
      ],
      "metadata": {
        "colab": {
          "base_uri": "https://localhost:8080/"
        },
        "id": "W8aRA3HrHouJ",
        "outputId": "37e16406-cabb-42ed-f429-0a4d4fb968d8"
      },
      "execution_count": 13,
      "outputs": [
        {
          "output_type": "stream",
          "name": "stdout",
          "text": [
            "[==================================================] 100.0% 31.6/31.6MB downloaded\n"
          ]
        }
      ]
    },
    {
      "cell_type": "code",
      "source": [
        "full_text8 = []\n",
        "for sentence in text8:\n",
        "  test = \" \".join(sentence)\n",
        "  test = test.lower()\n",
        "  test = re.sub(r\"[^\\w\\s]\", \" \", test)\n",
        "  sentence_tokens = word_tokenize(test)\n",
        "  filtered_tokens = [i for i in sentence_tokens if not i.lower() in stop_words]\n",
        "  full_text8.append(filtered_tokens)\n",
        "print(full_text8[0])\n",
        "\n"
      ],
      "metadata": {
        "colab": {
          "base_uri": "https://localhost:8080/"
        },
        "id": "MXZbObrmJRJE",
        "outputId": "5c9ac71c-c020-41da-bb4f-4e9fe9a2c30d"
      },
      "execution_count": 14,
      "outputs": [
        {
          "output_type": "stream",
          "name": "stdout",
          "text": [
            "['anarchism', 'originated', 'term', 'abuse', 'first', 'used', 'early', 'working', 'class', 'radicals', 'including', 'diggers', 'english', 'revolution', 'sans', 'culottes', 'french', 'revolution', 'whilst', 'term', 'still', 'used', 'pejorative', 'way', 'describe', 'act', 'used', 'violent', 'means', 'destroy', 'organization', 'society', 'also', 'taken', 'positive', 'label', 'self', 'defined', 'anarchists', 'word', 'anarchism', 'derived', 'greek', 'without', 'archons', 'ruler', 'chief', 'king', 'anarchism', 'political', 'philosophy', 'belief', 'rulers', 'unnecessary', 'abolished', 'although', 'differing', 'interpretations', 'means', 'anarchism', 'also', 'refers', 'related', 'social', 'movements', 'advocate', 'elimination', 'authoritarian', 'institutions', 'particularly', 'state', 'word', 'anarchy', 'anarchists', 'use', 'imply', 'chaos', 'nihilism', 'anomie', 'rather', 'harmonious', 'anti', 'authoritarian', 'society', 'place', 'regarded', 'authoritarian', 'political', 'structures', 'coercive', 'economic', 'institutions', 'anarchists', 'advocate', 'social', 'relations', 'based', 'upon', 'voluntary', 'association', 'autonomous', 'individuals', 'mutual', 'aid', 'self', 'governance', 'anarchism', 'easily', 'defined', 'anarchists', 'also', 'offer', 'positive', 'visions', 'believe', 'truly', 'free', 'society', 'however', 'ideas', 'anarchist', 'society', 'might', 'work', 'vary', 'considerably', 'especially', 'respect', 'economics', 'also', 'disagreement', 'free', 'society', 'might', 'brought', 'origins', 'predecessors', 'kropotkin', 'others', 'argue', 'recorded', 'history', 'human', 'society', 'organized', 'anarchist', 'principles', 'anthropologists', 'follow', 'kropotkin', 'engels', 'believing', 'hunter', 'gatherer', 'bands', 'egalitarian', 'lacked', 'division', 'labour', 'accumulated', 'wealth', 'decreed', 'law', 'equal', 'access', 'resources', 'william', 'godwin', 'anarchists', 'including', 'anarchy', 'organisation', 'rothbard', 'find', 'anarchist', 'attitudes', 'taoism', 'ancient', 'china', 'kropotkin', 'found', 'similar', 'ideas', 'stoic', 'zeno', 'citium', 'according', 'kropotkin', 'zeno', 'repudiated', 'omnipotence', 'state', 'intervention', 'regimentation', 'proclaimed', 'sovereignty', 'moral', 'law', 'individual', 'anabaptists', 'one', 'six', 'th', 'century', 'europe', 'sometimes', 'considered', 'religious', 'forerunners', 'modern', 'anarchism', 'bertrand', 'russell', 'history', 'western', 'philosophy', 'writes', 'anabaptists', 'repudiated', 'law', 'since', 'held', 'good', 'man', 'guided', 'every', 'moment', 'holy', 'spirit', 'premise', 'arrive', 'communism', 'diggers', 'true', 'levellers', 'early', 'communistic', 'movement', 'time', 'english', 'civil', 'war', 'considered', 'forerunners', 'modern', 'anarchism', 'modern', 'era', 'first', 'use', 'term', 'mean', 'something', 'chaos', 'louis', 'armand', 'baron', 'de', 'lahontan', 'nouveaux', 'voyages', 'dans', 'l', 'rique', 'septentrionale', 'one', 'seven', 'zero', 'three', 'described', 'indigenous', 'american', 'society', 'state', 'laws', 'prisons', 'priests', 'private', 'property', 'anarchy', 'russell', 'means', 'libertarian', 'leader', 'american', 'indian', 'movement', 'repeatedly', 'stated', 'anarchist', 'ancestors', 'one', 'seven', 'nine', 'three', 'thick', 'french', 'revolution', 'william', 'godwin', 'published', 'enquiry', 'concerning', 'political', 'justice', 'although', 'godwin', 'use', 'word', 'anarchism', 'many', 'later', 'anarchists', 'regarded', 'book', 'first', 'major', 'anarchist', 'text', 'godwin', 'founder', 'philosophical', 'anarchism', 'point', 'anarchist', 'movement', 'yet', 'existed', 'term', 'anarchiste', 'known', 'mainly', 'insult', 'hurled', 'bourgeois', 'girondins', 'radical', 'elements', 'french', 'revolution', 'first', 'self', 'labelled', 'anarchist', 'pierre', 'joseph', 'proudhon', 'commonly', 'held', 'pierre', 'joseph', 'proudhon', 'published', 'property', 'one', 'eight', 'four', 'zero', 'term', 'anarchist', 'adopted', 'self', 'description', 'reason', 'claim', 'proudhon', 'founder', 'modern', 'anarchist', 'theory', 'property', 'proudhon', 'answers', 'famous', 'accusation', 'property', 'theft', 'work', 'opposed', 'institution', 'decreed', 'property', 'propri', 'owners', 'complete', 'rights', 'use', 'abuse', 'property', 'wish', 'exploiting', 'workers', 'profit', 'place', 'proudhon', 'supported', 'called', 'possession', 'individuals', 'limited', 'rights', 'use', 'resources', 'capital', 'goods', 'accordance', 'principles', 'equality', 'justice', 'proudhon', 'vision', 'anarchy', 'called', 'mutualism', 'mutuellisme', 'involved', 'exchange', 'economy', 'individuals', 'groups', 'could', 'trade', 'products', 'labor', 'using', 'labor', 'notes', 'represented', 'amount', 'working', 'time', 'involved', 'production', 'would', 'ensure', 'one', 'would', 'profit', 'labor', 'others', 'workers', 'could', 'freely', 'join', 'together', 'co', 'operative', 'workshops', 'interest', 'free', 'bank', 'would', 'set', 'provide', 'everyone', 'access', 'means', 'production', 'proudhon', 'ideas', 'influential', 'within', 'french', 'working', 'class', 'movements', 'followers', 'active', 'revolution', 'one', 'eight', 'four', 'eight', 'france', 'proudhon', 'philosophy', 'property', 'complex', 'developed', 'number', 'works', 'lifetime', 'differing', 'interpretations', 'ideas', 'detailed', 'discussion', 'see', 'max', 'stirner', 'egoism', 'ego', 'stirner', 'argued', 'commonly', 'accepted', 'social', 'institutions', 'including', 'notion', 'state', 'property', 'right', 'natural', 'rights', 'general', 'notion', 'society', 'mere', 'illusions', 'ghosts', 'mind', 'saying', 'society', 'individuals', 'reality', 'advocated', 'egoism', 'form', 'amoralism', 'individuals', 'would', 'unite', 'associations', 'egoists', 'self', 'interest', 'property', 'simply', 'comes', 'might', 'whoever', 'knows', 'take', 'defend', 'thing', 'belongs', 'property', 'power', 'long', 'assert', 'holder', 'proprietor', 'thing', 'stirner', 'never', 'called', 'anarchist', 'accepted', 'label', 'egoist', 'nevertheless', 'ideas', 'influential', 'many', 'individualistically', 'inclined', 'anarchists', 'although', 'interpretations', 'thought', 'diverse', 'american', 'individualist', 'anarchism', 'benjamin', 'tucker', 'one', 'eight', 'two', 'five', 'josiah', 'warren', 'participated', 'communitarian', 'experiment', 'headed', 'robert', 'owen', 'called', 'new', 'harmony', 'failed', 'years', 'amidst', 'much', 'internal', 'conflict', 'warren', 'blamed', 'community', 'failure', 'lack', 'individual', 'sovereignty', 'lack', 'private', 'property', 'warren', 'proceeded', 'organise', 'experimenal', 'anarchist', 'communities', 'respected', 'called', 'sovereignty', 'individual', 'utopia', 'modern', 'times', 'one', 'eight', 'three', 'three', 'warren', 'wrote', 'published', 'peaceful', 'revolutionist', 'noted', 'first', 'anarchist', 'periodical', 'ever', 'published', 'benjamin', 'tucker', 'says', 'warren', 'first', 'man', 'expound', 'formulate', 'doctrine', 'known', 'anarchism', 'liberty', 'xiv', 'december', 'one', 'nine', 'zero', 'zero', 'one', 'benjamin', 'tucker', 'became', 'interested', 'anarchism', 'meeting', 'josiah', 'warren', 'william', 'b', 'greene', 'edited', 'published', 'liberty', 'august', 'one', 'eight', 'eight', 'one', 'april', 'one', 'nine', 'zero', 'eight', 'widely', 'considered', 'finest', 'individualist', 'anarchist', 'periodical', 'ever', 'issued', 'english', 'language', 'tucker', 'conception', 'individualist', 'anarchism', 'incorporated', 'ideas', 'variety', 'theorists', 'greene', 'ideas', 'mutual', 'banking', 'warren', 'ideas', 'cost', 'limit', 'price', 'heterodox', 'variety', 'labour', 'theory', 'value', 'proudhon', 'market', 'anarchism', 'max', 'stirner', 'egoism', 'herbert', 'spencer', 'law', 'equal', 'freedom', 'tucker', 'strongly', 'supported', 'individual', 'right', 'product', 'labour', 'private', 'property', 'believed', 'market', 'economy', 'trading', 'property', 'argued', 'truly', 'free', 'market', 'system', 'without', 'state', 'abundance', 'competition', 'would', 'eliminate', 'profits', 'ensure', 'workers', 'received', 'full', 'value', 'labor', 'one', 'nine', 'th', 'century', 'individualists', 'included', 'lysander', 'spooner', 'stephen', 'pearl', 'andrews', 'victor', 'yarros', 'first', 'international', 'mikhail', 'bakunin', 'one', 'eight', 'one', 'four', 'one', 'eight', 'seven', 'six', 'europe', 'harsh', 'reaction', 'followed', 'revolutions', 'one', 'eight', 'four', 'eight', 'twenty', 'years', 'later', 'one', 'eight', 'six', 'four', 'international', 'workingmen', 'association', 'sometimes', 'called', 'first', 'international', 'united', 'diverse', 'european', 'revolutionary', 'currents', 'including', 'anarchism', 'due', 'genuine', 'links', 'active', 'workers', 'movements', 'international', 'became', 'signficiant', 'start', 'karl', 'marx', 'leading', 'figure', 'international', 'elected', 'every', 'succeeding', 'general', 'council', 'association', 'first', 'objections', 'marx', 'came', 'mutualists', 'opposed', 'communism', 'statism', 'shortly', 'mikhail', 'bakunin', 'followers', 'joined', 'one', 'eight', 'six', 'eight', 'first', 'international', 'became', 'polarised', 'two', 'camps', 'marx', 'bakunin', 'respective', 'figureheads', 'clearest', 'difference', 'camps', 'strategy', 'anarchists', 'around', 'bakunin', 'favoured', 'kropotkin', 'words', 'direct', 'economical', 'struggle', 'capitalism', 'without', 'interfering', 'political', 'parliamentary', 'agitation', 'time', 'marx', 'followers', 'focused', 'parliamentary', 'activity', 'bakunin', 'characterised', 'marx', 'ideas', 'authoritarian', 'predicted', 'marxist', 'party', 'gained', 'power', 'leaders', 'would', 'end', 'bad', 'ruling', 'class', 'fought', 'one', 'eight', 'seven', 'two', 'conflict', 'climaxed', 'final', 'split', 'two', 'groups', 'hague', 'congress', 'often', 'cited', 'origin', 'conflict', 'anarchists', 'marxists', 'moment', 'social', 'democratic', 'libertarian', 'currents', 'socialism', 'distinct', 'organisations', 'including', 'rival', 'internationals', 'anarchist', 'communism', 'peter', 'kropotkin', 'proudhon', 'bakunin', 'opposed', 'communism', 'associating', 'statism', 'however', 'one', 'eight', 'seven', 'zero', 'many', 'anarchists', 'moved', 'away', 'bakunin', 'economic', 'thinking', 'called', 'collectivism', 'embraced', 'communist', 'concepts', 'communists', 'believed', 'means', 'production', 'owned', 'collectively', 'goods', 'distributed', 'need', 'labor', 'early', 'anarchist', 'communist', 'joseph', 'jacque', 'first', 'person', 'describe', 'libertarian', 'unlike', 'proudhon', 'argued', 'product', 'labor', 'worker', 'right', 'satisfaction', 'needs', 'whatever', 'may', 'nature', 'announced', 'ideas', 'us', 'published', 'journal', 'le', 'libertaire', 'one', 'eight', 'five', 'eight', 'one', 'eight', 'six', 'one', 'peter', 'kropotkin', 'often', 'seen', 'important', 'theorist', 'outlined', 'economic', 'ideas', 'conquest', 'bread', 'fields', 'factories', 'workshops', 'felt', 'co', 'operation', 'beneficial', 'competition', 'illustrated', 'nature', 'mutual', 'aid', 'factor', 'evolution', 'one', 'eight', 'nine', 'seven', 'subsequent', 'anarchist', 'communists', 'include', 'emma', 'goldman', 'alexander', 'berkman', 'many', 'anarcho', 'syndicalist', 'movements', 'see', 'saw', 'anarchist', 'communism', 'objective', 'isaac', 'puente', 'one', 'nine', 'three', 'two', 'comunismo', 'libertario', 'adopted', 'spanish', 'cnt', 'manifesto', 'post', 'revolutionary', 'society', 'anarchists', 'disliked', 'merging', 'communism', 'anarchism', 'several', 'individualist', 'anarchists', 'maintained', 'abolition', 'private', 'property', 'consistent', 'liberty', 'example', 'benjamin', 'tucker', 'whilst', 'professing', 'respect', 'kropotkin', 'publishing', 'work', 'described', 'communist', 'anarchism', 'pseudo', 'anarchism', 'propaganda', 'deed', 'johann', 'outspoken', 'advocate', 'violence', 'anarchists', 'often', 'portrayed', 'dangerous', 'violent', 'due', 'mainly', 'number', 'high', 'profile', 'violent', 'acts', 'including', 'riots', 'assassinations', 'insurrections', 'terrorism', 'anarchists', 'revolutionaries', 'late', 'one', 'nine', 'th', 'century', 'encouraged', 'acts', 'political', 'violence', 'bombings', 'assassinations', 'heads', 'state', 'anarchism', 'actions', 'sometimes', 'called', 'propaganda', 'deed', 'one', 'outspoken', 'advocates', 'strategy', 'johann', 'said', 'existing', 'system', 'quickest', 'radically', 'overthrown', 'annihilation', 'exponents', 'therefore', 'massacres', 'enemies', 'people', 'must', 'set', 'motion', 'preferred', 'method', 'terrorism', 'dynamite', 'earned', 'moniker', 'dynamost', 'however', 'consensus', 'legitimacy', 'utility', 'violence', 'general', 'mikhail', 'bakunin', 'errico', 'malatesta', 'example', 'wrote', 'violence', 'necessary', 'sometimes', 'desirable', 'force', 'revolutionary', 'settings', 'time', 'denounced', 'acts', 'individual', 'terrorism', 'malatesta', 'violence', 'bakunin', 'refuted', 'nechaev', 'anarchists', 'sometimes', 'identified', 'pacifist', 'anarchists', 'advocated', 'complete', 'nonviolence', 'leo', 'tolstoy', 'whose', 'philosophy', 'often', 'viewed', 'form', 'christian', 'anarchism', 'see', 'notable', 'exponent', 'nonviolent', 'resistance', 'anarchism', 'labour', 'movement', 'red', 'black', 'flag', 'coming', 'experience', 'anarchists', 'labour', 'movement', 'particularly', 'associated', 'anarcho', 'syndicalism', 'anarcho', 'syndicalism', 'early', 'two', 'zero', 'th', 'century', 'working', 'class', 'movement', 'seeking', 'overthrow', 'capitalism', 'state', 'institute', 'worker', 'controlled', 'society', 'movement', 'pursued', 'industrial', 'actions', 'general', 'strike', 'primary', 'strategy', 'many', 'anarcho', 'syndicalists', 'believed', 'anarchist', 'communism', 'though', 'communists', 'believed', 'syndicalism', 'one', 'eight', 'seven', 'one', 'repression', 'french', 'anarchism', 'reemerged', 'influencing', 'bourses', 'de', 'travails', 'autonomous', 'workers', 'groups', 'trade', 'unions', 'movement', 'conf', 'ration', 'g', 'n', 'rale', 'du', 'travail', 'general', 'confederation', 'work', 'cgt', 'formed', 'one', 'eight', 'nine', 'five', 'first', 'major', 'anarcho', 'syndicalist', 'movement', 'emile', 'pataud', 'emile', 'pouget', 'writing', 'cgt', 'saw', 'libertarian', 'communism', 'developing', 'general', 'strike', 'one', 'nine', 'one', 'four', 'cgt', 'moved', 'away', 'anarcho', 'syndicalism', 'due', 'appeal', 'bolshevism', 'french', 'style', 'syndicalism', 'significant', 'movement', 'europe', 'prior', 'one', 'nine', 'two', 'one', 'remained', 'significant', 'movement', 'spain', 'mid', 'one', 'nine', 'four', 'zero', 'industrial', 'workers', 'world', 'iww', 'founded', 'one', 'nine', 'zero', 'five', 'us', 'espoused', 'unionism', 'sought', 'general', 'strike', 'usher', 'stateless', 'society', 'one', 'nine', 'two', 'three', 'one', 'zero', 'zero', 'zero', 'zero', 'zero', 'members', 'existed', 'support', 'three', 'zero', 'zero', 'zero', 'zero', 'zero', 'though', 'explicitly', 'anarchist', 'organized', 'rank', 'file', 'democracy', 'embodying', 'spirit', 'resistance', 'inspired', 'many', 'anglophone', 'syndicalists', 'cnt', 'propaganda', 'april', 'two', 'zero', 'zero', 'four', 'reads', 'let', 'politicians', 'rule', 'lives', 'vote', 'decide', 'allow', 'unity', 'action', 'self', 'management', 'spanish', 'anarchist', 'trade', 'union', 'federations', 'formed', 'one', 'eight', 'seven', 'zero', 'one', 'nine', 'zero', 'zero', 'one', 'nine', 'one', 'zero', 'successful', 'confederaci', 'n', 'nacional', 'del', 'trabajo', 'national', 'confederation', 'labour', 'cnt', 'founded', 'one', 'nine', 'one', 'zero', 'prior', 'one', 'nine', 'four', 'zero', 'cnt', 'major', 'force', 'spanish', 'working', 'class', 'politics', 'membership', 'one', 'five', 'eight', 'million', 'one', 'nine', 'three', 'four', 'cnt', 'played', 'major', 'role', 'spanish', 'civil', 'war', 'see', 'also', 'anarchism', 'spain', 'syndicalists', 'like', 'ricardo', 'flores', 'mag', 'n', 'key', 'figures', 'mexican', 'revolution', 'latin', 'american', 'anarchism', 'strongly', 'influenced', 'extending', 'zapatista', 'rebellion', 'factory', 'occupation', 'movements', 'argentina', 'berlin', 'one', 'nine', 'two', 'two', 'cnt', 'joined', 'international', 'workers', 'association', 'anarcho', 'syndicalist', 'successor', 'first', 'international', 'contemporary', 'anarcho', 'syndicalism', 'continues', 'minor', 'force', 'many', 'socities', 'much', 'smaller', 'one', 'nine', 'one', 'zero', 'two', 'zero', 'three', 'zero', 'largest', 'organised', 'anarchist', 'movement', 'today', 'spain', 'form', 'confederaci', 'n', 'general', 'del', 'trabajo', 'cnt', 'cgt', 'claims', 'paid', 'membership', 'six', 'zero', 'zero', 'zero', 'zero', 'received', 'million', 'votes', 'spanish', 'syndical', 'elections', 'active', 'syndicalist', 'movements', 'include', 'us', 'workers', 'solidarity', 'alliance', 'uk', 'solidarity', 'federation', 'revolutionary', 'industrial', 'unionist', 'industrial', 'workers', 'world', 'also', 'exists', 'claiming', 'two', 'zero', 'zero', 'zero', 'paid', 'members', 'contemporary', 'critics', 'anarcho', 'syndicalism', 'revolutionary', 'industrial', 'unionism', 'claim', 'workerist', 'fail', 'deal', 'economic', 'life', 'outside', 'work', 'post', 'leftist', 'critics', 'bob', 'black', 'claim', 'anarcho', 'syndicalism', 'advocates', 'oppressive', 'social', 'structures', 'work', 'workplace', 'anarcho', 'syndicalists', 'general', 'uphold', 'principles', 'workers', 'solidarity', 'direct', 'action', 'self', 'management', 'russian', 'revolution', 'russian', 'revolution', 'one', 'nine', 'one', 'seven', 'seismic', 'event', 'development', 'anarchism', 'movement', 'philosophy', 'anarchists', 'participated', 'alongside', 'bolsheviks', 'february', 'october', 'revolutions', 'many', 'anarchists', 'initially', 'supporting', 'bolshevik', 'coup', 'however', 'bolsheviks', 'soon', 'turned', 'anarchists', 'left', 'wing', 'opposition', 'conflict', 'culminated', 'one', 'nine', 'one', 'eight', 'kronstadt', 'rebellion', 'anarchists', 'central', 'russia', 'imprisoned', 'driven', 'underground', 'joined', 'victorious', 'bolsheviks', 'ukraine', 'anarchists', 'fought', 'civil', 'war', 'whites', 'bolsheviks', 'within', 'makhnovshchina', 'peasant', 'army', 'led', 'nestor', 'makhno', 'expelled', 'american', 'anarchists', 'emma', 'goldman', 'alexander', 'berkman', 'leaving', 'russia', 'amongst', 'agitating', 'response', 'bolshevik', 'policy', 'suppression', 'kronstadt', 'uprising', 'wrote', 'classic', 'accounts', 'experiences', 'russia', 'aiming', 'expose', 'reality', 'bolshevik', 'control', 'bakunin', 'predictions', 'consequences', 'marxist', 'rule', 'proved', 'true', 'victory', 'bolsheviks', 'october', 'revolution', 'resulting', 'russian', 'civil', 'war', 'serious', 'damage', 'anarchist', 'movements', 'internationally', 'many', 'workers', 'activists', 'saw', 'bolshevik', 'success', 'setting', 'example', 'communist', 'parties', 'grew', 'expense', 'anarchism', 'socialist', 'movements', 'france', 'us', 'example', 'major', 'syndicalist', 'movements', 'cgt', 'iww', 'began', 'realign', 'away', 'anarchism', 'towards', 'communist', 'international', 'paris', 'dielo', 'truda', 'group', 'russian', 'anarchist', 'exiles', 'included', 'nestor', 'makhno', 'concluded', 'anarchists', 'needed', 'develop', 'new', 'forms', 'organisation', 'response', 'structures', 'bolshevism', 'one', 'nine', 'two', 'six', 'manifesto', 'known', 'organisational', 'platform', 'libertarian', 'communists', 'supported', 'communist', 'anarchists', 'though', 'opposed', 'many', 'others', 'platform', 'continues', 'inspire', 'contemporary', 'anarchist', 'groups', 'believe', 'anarchist', 'movement', 'organised', 'around', 'principles', 'theoretical', 'unity', 'tactical', 'unity', 'collective', 'responsibility', 'federalism', 'platformist', 'groups', 'today', 'include', 'workers', 'solidarity', 'movement', 'ireland', 'uk', 'anarchist', 'federation', 'late', 'north', 'eastern', 'federation', 'anarchist', 'communists', 'northeastern', 'united', 'states', 'bordering', 'canada', 'fight', 'fascism', 'spain', 'one', 'nine', 'three', 'six', 'members', 'cnt', 'construct', 'armoured', 'cars', 'fight', 'fascists', 'one', 'collectivised', 'factories', 'one', 'nine', 'two', 'zero', 'one', 'nine', 'three', 'zero', 'familiar', 'dynamics', 'anarchism', 'conflict', 'state', 'transformed', 'rise', 'fascism', 'europe', 'many', 'cases', 'european', 'anarchists', 'faced', 'difficult', 'choices', 'join', 'popular', 'fronts', 'reformist', 'democrats', 'soviet', 'led', 'communists', 'common', 'fascist', 'enemy', 'luigi', 'fabbri', 'exile', 'italian', 'fascism', 'amongst', 'arguing', 'fascism', 'something', 'different', 'fascism', 'another', 'form', 'government', 'like', 'others', 'uses', 'violence', 'authoritarian', 'violent', 'form', 'government', 'imaginable', 'represents', 'utmost', 'glorification', 'theory', 'practice', 'principle', 'authority', 'france', 'fascists', 'came', 'close', 'insurrection', 'february', 'one', 'nine', 'three', 'four', 'riots', 'anarchists', 'divided', 'united', 'front', 'policy', 'spain', 'cnt', 'initially', 'refused', 'join', 'popular', 'front', 'electoral', 'alliance', 'abstention', 'cnt', 'supporters', 'led', 'right', 'wing', 'election', 'victory', 'one', 'nine', 'three', 'six', 'cnt', 'changed', 'policy', 'anarchist', 'votes', 'helped', 'bring', 'popular', 'front', 'back', 'power', 'months', 'later', 'ruling', 'class', 'responded', 'attempted', 'coup', 'spanish', 'civil', 'war', 'one', 'nine', 'three', 'six', 'three', 'nine', 'underway', 'reponse', 'army', 'rebellion', 'anarchist', 'inspired', 'movement', 'peasants', 'workers', 'supported', 'armed', 'militias', 'took', 'control', 'major', 'city', 'barcelona', 'large', 'areas', 'rural', 'spain', 'collectivized', 'land', 'even', 'eventual', 'fascist', 'victory', 'one', 'nine', 'three', 'nine', 'anarchists', 'losing', 'ground', 'bitter', 'struggle', 'stalinists', 'cnt', 'leadership', 'often', 'appeared', 'confused', 'divided', 'members', 'controversially', 'entering', 'government', 'stalinist', 'led', 'troops', 'suppressed', 'collectives', 'persecuted', 'dissident', 'marxists', 'anarchists', 'since', 'late', 'one', 'nine', 'seven', 'zero', 'anarchists', 'involved', 'fighting', 'rise', 'neo', 'fascist', 'groups', 'germany', 'united', 'kingdom', 'anarchists', 'worked', 'within', 'militant', 'anti', 'fascist', 'groups', 'alongside', 'members', 'marxist', 'left', 'advocated', 'directly', 'combating', 'fascists', 'physical', 'force', 'rather', 'relying', 'state', 'since', 'late', 'one', 'nine', 'nine', 'zero', 'similar', 'tendency', 'developed', 'within', 'us', 'anarchism', 'see', 'also', 'anti', 'racist', 'action', 'us', 'anti', 'fascist', 'action', 'uk', 'antifa', 'religious', 'anarchism', 'leo', 'tolstoy', 'one', 'eight', 'two', 'eight', 'one', 'nine', 'one', 'zero', 'anarchist', 'culture', 'tends', 'secular', 'outright', 'anti', 'religious', 'however', 'combination', 'religious', 'social', 'conscience', 'historical', 'religiousity', 'amongst', 'oppressed', 'social', 'classes', 'compatibility', 'interpretations', 'religious', 'traditions', 'anarchism', 'resulted', 'religious', 'anarchism', 'christian', 'anarchists', 'believe', 'higher', 'authority', 'god', 'oppose', 'earthly', 'authority', 'government', 'established', 'churches', 'believe', 'jesus', 'teachings', 'clearly', 'anarchistic', 'corrupted', 'christianity', 'declared', 'official', 'religion', 'rome', 'christian', 'anarchists', 'follow', 'jesus', 'directive', 'turn', 'cheek', 'strict', 'pacifists', 'famous', 'advocate', 'christian', 'anarchism', 'leo', 'tolstoy', 'author', 'kingdom', 'god', 'within', 'called', 'society', 'based', 'compassion', 'nonviolent', 'principles', 'freedom', 'christian', 'anarchists', 'tend', 'form', 'experimental', 'communities', 'also', 'occasionally', 'resist', 'taxation', 'many', 'christian', 'anarchists', 'vegetarian', 'vegan', 'christian', 'anarchy', 'said', 'roots', 'old', 'religion', 'birth', 'early', 'church', 'exhibits', 'many', 'anarchistic', 'tendencies', 'communal', 'goods', 'wealth', 'aiming', 'obey', 'utterly', 'certain', 'bible', 'teachings', 'certain', 'anabaptist', 'groups', 'sixteenth', 'century', 'europe', 'attempted', 'emulate', 'early', 'church', 'social', 'economic', 'organisation', 'philosophy', 'regarding', 'social', 'structure', 'capable', 'true', 'obediance', 'jesus', 'teachings', 'utterly', 'rejected', 'theory', 'earthly', 'hierarchies', 'authority', 'indeed', 'non', 'anabaptists', 'general', 'violence', 'ungodly', 'groups', 'example', 'hutterites', 'typically', 'went', 'initially', 'anarchistic', 'beginnings', 'movements', 'stabalised', 'authoritarian', 'social', 'models', 'chinese', 'anarchism', 'influential', 'one', 'nine', 'two', 'zero', 'strands', 'chinese', 'anarchism', 'included', 'tai', 'xu', 'buddhist', 'anarchism', 'influenced', 'tolstoy', 'well', 'field', 'system', 'neopaganism', 'focus', 'environment', 'equality', 'along', 'often', 'decentralized', 'nature', 'lead', 'number', 'neopagan', 'anarchists', 'one', 'prominent', 'starhawk', 'writes', 'extensively', 'spirituality', 'activism', 'anarchism', 'feminism', 'emma', 'goldman', 'early', 'french', 'feminists', 'jenny', 'h', 'ricourt', 'juliette', 'adam', 'criticised', 'mysogyny', 'anarchism', 'proudhon', 'one', 'eight', 'five', 'zero', 'anarcha', 'feminism', 'kind', 'radical', 'feminism', 'espouses', 'belief', 'patriarchy', 'fundamental', 'problem', 'society', 'anarchist', 'feminism', 'existed', 'hundred', 'years', 'explicit', 'formulation', 'anarcha', 'feminism', 'dates', 'back', 'early', 'seven', 'zero', 'second', 'wave', 'feminist', 'movement', 'anarcha', 'feminism', 'views', 'patriarchy', 'first', 'manifestation', 'hierarchy', 'human', 'history', 'thus', 'first', 'form', 'oppression', 'occurred', 'dominance', 'male', 'female', 'anarcha', 'feminists', 'conclude', 'feminists', 'patriarchy', 'must', 'also', 'forms', 'hierarchy', 'therefore', 'must', 'reject', 'authoritarian', 'nature', 'state', 'capitalism', 'anarcho', 'primitivists', 'see', 'creation', 'gender', 'roles', 'patriarchy', 'creation', 'start', 'civilization', 'therefore', 'consider', 'primitivism', 'also', 'anarchist', 'school', 'thought', 'addresses', 'feminist', 'concerns', 'eco', 'feminism', 'often', 'considered', 'feminist', 'variant', 'green', 'anarchist', 'feminist', 'thought', 'anarcha', 'feminism', 'often', 'associated', 'early', 'two', 'zero', 'th', 'century', 'authors', 'theorists', 'emma', 'goldman', 'voltairine', 'de', 'cleyre', 'although', 'even', 'early', 'first', 'wave', 'feminist', 'mary', 'wollstonecraft', 'held', 'proto', 'anarchist', 'views', 'william', 'godwin', 'often', 'considered', 'feminist', 'anarchist', 'precursor', 'noted', 'goldman', 'de', 'cleyre', 'though', 'opposed', 'state', 'opposing', 'philosophies', 'de', 'cleyre', 'explains', 'miss', 'goldman', 'communist', 'individualist', 'wishes', 'destroy', 'right', 'property', 'wish', 'assert', 'make', 'war', 'upon', 'privilege', 'authority', 'whereby', 'right', 'property', 'true', 'right', 'proper', 'individual', 'annihilated', 'believes', 'co', 'operation', 'would', 'entirely', 'supplant', 'competition', 'hold', 'competition', 'one', 'form', 'another', 'always', 'exist', 'highly', 'desirable', 'spanish', 'civil', 'war', 'anarcha', 'feminist', 'group', 'free', 'women', 'organized', 'defend', 'anarchist', 'feminist', 'ideas', 'modern', 'day', 'anarchist', 'movement', 'many', 'anarchists', 'male', 'female', 'consider', 'feminists', 'anarcha', 'feminist', 'ideas', 'growing', 'publishing', 'quiet', 'rumors', 'anarcha', 'feminist', 'reader', 'helped', 'spread', 'various', 'kinds', 'anti', 'authoritarian', 'anarchist', 'feminist', 'ideas', 'broader', 'movement', 'wendy', 'mcelroy', 'popularized', 'individualist', 'anarchism', 'take', 'feminism', 'books', 'articles', 'individualist', 'feminist', 'website', 'anarcho', 'capitalism', 'murray', 'rothbard', 'one', 'nine', 'two', 'six', 'one', 'nine', 'nine', 'five', 'anarcho', 'capitalism', 'predominantly', 'united', 'states', 'based', 'theoretical', 'tradition', 'desires', 'stateless', 'society', 'economic', 'system', 'free', 'market', 'capitalism', 'unlike', 'branches', 'anarchism', 'oppose', 'profit', 'capitalism', 'consequently', 'anarchists', 'recognise', 'anarcho', 'capitalism', 'form', 'anarchism', 'murray', 'rothbard', 'synthesis', 'classical', 'liberalism', 'austrian', 'economics', 'germinal', 'development', 'contemporary', 'anarcho', 'capitalist', 'theory', 'defines', 'anarcho', 'capitalism', 'terms', 'non', 'aggression', 'principle', 'based', 'concept', 'natural', 'law', 'competiting', 'theorists', 'use', 'egoism', 'utilitarianism', 'used', 'david', 'friedman', 'contractarianism', 'used', 'jan', 'narveson', 'minarchists', 'ayn', 'rand', 'robert', 'nozick', 'robert', 'heinlein', 'influenced', 'anarcho', 'capitalism', 'anarcho', 'capitalists', 'along', 'right', 'wing', 'libertarian', 'historians', 'david', 'hart', 'ralph', 'raico', 'considered', 'similar', 'philosophies', 'existing', 'prior', 'rothbard', 'anarcho', 'capitalist', 'gustave', 'de', 'molinari', 'auberon', 'herbert', 'opponents', 'anarcho', 'capitalists', 'dispute', 'claims', 'place', 'anarcho', 'capitalism', 'within', 'anarchism', 'indeed', 'whether', 'form', 'anarchism', 'highly', 'controversial', 'debate', 'see', 'anarchism', 'anarcho', 'capitalism', 'anarchism', 'environment', 'since', 'late', 'one', 'nine', 'seven', 'zero', 'anarchists', 'anglophone', 'european', 'countries', 'taking', 'action', 'natural', 'environment', 'eco', 'anarchists', 'green', 'anarchists', 'believe', 'deep', 'ecology', 'worldview', 'embraces', 'biodiversity', 'sustainability', 'eco', 'anarchists', 'often', 'use', 'direct', 'action', 'see', 'earth', 'destroying', 'institutions', 'particular', 'importance', 'earth', 'first', 'movement', 'takes', 'action', 'tree', 'sitting', 'another', 'important', 'component', 'ecofeminism', 'sees', 'domination', 'nature', 'metaphor', 'domination', 'women', 'green', 'anarchism', 'also', 'involves', 'critique', 'industrial', 'capitalism', 'green', 'anarchists', 'civilization', 'primitivism', 'predominantly', 'western', 'philosophy', 'advocates', 'return', 'pre', 'industrial', 'usually', 'pre', 'agricultural', 'society', 'develops', 'critique', 'industrial', 'civilization', 'critique', 'technology', 'development', 'alienated', 'people', 'natural', 'world', 'philosophy', 'develops', 'themes', 'present', 'political', 'action', 'luddites', 'writings', 'jean', 'jacques', 'rousseau', 'primitivism', 'developed', 'context', 'reclaim', 'streets', 'earth', 'first', 'earth', 'liberation', 'front', 'movements', 'john', 'zerzan', 'wrote', 'civilization', 'state', 'would', 'need', 'fall', 'anarchy', 'achieved', 'anarcho', 'primitivists', 'point', 'anti', 'authoritarian', 'nature', 'many', 'primitive', 'hunter', 'gatherer', 'societies', 'throughout', 'world', 'history', 'examples', 'anarchist', 'societies', 'branches', 'offshoots', 'anarchism', 'generates', 'many', 'eclectic', 'syncretic', 'philosophies', 'movements', 'since', 'western', 'social', 'formet', 'one', 'nine', 'six', 'zero', 'one', 'nine', 'seven', 'zero', 'number', 'new', 'movements', 'schools', 'appeared', 'stances', 'limited', 'even', 'smaller', 'numbers', 'schools', 'movements', 'listed', 'hakim', 'bey', 'post', 'left', 'anarchy', 'post', 'left', 'anarchy', 'also', 'called', 'egoist', 'anarchism', 'seeks', 'distance', 'traditional', 'left', 'communists', 'liberals', 'social', 'democrats', 'etc', 'escape', 'confines', 'ideology', 'general', 'post', 'leftists', 'argue', 'anarchism', 'weakened', 'long', 'attachment', 'contrary', 'leftist', 'movements', 'single', 'issue', 'causes', 'anti', 'war', 'anti', 'nuclear', 'etc', 'calls', 'synthesis', 'anarchist', 'thought', 'specifically', 'anti', 'authoritarian', 'revolutionary', 'movement', 'outside', 'leftist', 'milieu', 'often', 'focuses', 'individual', 'rather', 'speaking', 'terms', 'class', 'broad', 'generalizations', 'shuns', 'organizational', 'tendencies', 'favor', 'complete', 'absence', 'explicit', 'hierarchy', 'important', 'groups', 'individuals', 'associated', 'post', 'left', 'anarchy', 'include', 'crimethinc', 'magazine', 'anarchy', 'journal', 'desire', 'armed', 'editor', 'jason', 'mcquinn', 'bob', 'black', 'hakim', 'bey', 'others', 'information', 'see', 'infoshop', 'org', 'anarchy', 'leftism', 'section', 'post', 'left', 'section', 'anarchism', 'ws', 'see', 'also', 'post', 'left', 'anarchy', 'post', 'structuralism', 'term', 'postanarchism', 'originated', 'saul', 'newman', 'first', 'receiving', 'popular', 'attention', 'book', 'bakunin', 'lacan', 'refer', 'theoretical', 'move', 'towards', 'synthesis', 'classical', 'anarchist', 'theory', 'poststructuralist', 'thought', 'subsequent', 'newman', 'use', 'term', 'however', 'taken', 'life', 'wide', 'range', 'ideas', 'including', 'autonomism', 'post', 'left', 'anarchy', 'situationism', 'post', 'colonialism', 'zapatismo', 'nature', 'post', 'anarchism', 'rejects', 'idea', 'coherent', 'set', 'doctrines', 'beliefs', 'difficult', 'impossible', 'state', 'degree', 'certainty', 'grouped', 'rubric', 'nonetheless', 'key', 'thinkers', 'associated', 'post', 'anarchism', 'include', 'saul', 'newman', 'todd', 'may', 'gilles', 'deleuze', 'f', 'lix', 'guattari', 'external', 'reference', 'postanarchism', 'clearinghouse', 'see', 'also', 'post', 'anarchism', 'insurrectionary', 'anarchism', 'insurrectionary', 'anarchism', 'form', 'revolutionary', 'anarchism', 'critical', 'formal', 'anarchist', 'labor', 'unions', 'federations', 'insurrectionary', 'anarchists', 'advocate', 'informal', 'organization', 'including', 'small', 'affinity', 'groups', 'carrying', 'acts', 'resistance', 'various', 'struggles', 'mass', 'organizations', 'called', 'base', 'structures', 'include', 'exploited', 'individuals', 'anarchists', 'proponents', 'include', 'wolfi', 'landstreicher', 'alfredo', 'bonanno', 'author', 'works', 'including', 'armed', 'joy', 'anarchist', 'tension', 'tendency', 'represented', 'us', 'magazines', 'willful', 'disobedience', 'killing', 'king', 'abacus', 'see', 'also', 'insurrectionary', 'anarchism', 'small', 'anarchism', 'small', 'anarchism', 'term', 'used', 'two', 'different', 'unconnected', 'contexts', 'dave', 'neal', 'posited', 'term', 'opposition', 'big', 'anarchism', 'article', 'anarchism', 'ideology', 'methodology', 'big', 'anarchism', 'referred', 'ideological', 'anarchists', 'small', 'anarchism', 'applied', 'methodological', 'counterparts', 'viewed', 'anarchism', 'way', 'acting', 'historical', 'tendency', 'illegitimate', 'authority', 'anti', 'ideological', 'position', 'small', 'anarchism', 'shares', 'similarities', 'post', 'left', 'anarchy', 'david', 'graeber', 'andrej', 'grubacic', 'offer', 'alternative', 'use', 'term', 'applying', 'groups', 'movements', 'organising', 'according', 'acting', 'manner', 'consistent', 'anarchist', 'principles', 'decentralisation', 'voluntary', 'association', 'mutual', 'aid', 'network', 'model', 'crucially', 'rejection', 'idea', 'end', 'justifies', 'means', 'let', 'alone', 'business', 'revolutionary', 'seize', 'state', 'power', 'begin', 'imposing', 'one', 'vision', 'point', 'gun', 'issues', 'conceptions', 'anarchist', 'society', 'many', 'political', 'philosophers', 'justify', 'support', 'state', 'means', 'regulating', 'violence', 'destruction', 'caused', 'human', 'conflict', 'minimized', 'fair', 'relationships', 'established', 'anarchists', 'argue', 'pursuit', 'ends', 'justify', 'establishment', 'state', 'many', 'argue', 'state', 'incompatible', 'goals', 'cause', 'chaos', 'violence', 'war', 'anarchists', 'argue', 'state', 'helps', 'create', 'monopoly', 'violence', 'uses', 'violence', 'advance', 'elite', 'interests', 'much', 'effort', 'dedicated', 'explaining', 'anarchist', 'societies', 'would', 'handle', 'criminality', 'see', 'also', 'anarchism', 'society', 'civil', 'rights', 'cultural', 'sovereignty', 'black', 'anarchism', 'opposes', 'existence', 'state', 'capitalism', 'subjugation', 'domination', 'people', 'color', 'favors', 'non', 'hierarchical', 'organization', 'society', 'theorists', 'include', 'ashanti', 'alston', 'lorenzo', 'komboa', 'ervin', 'sam', 'mbah', 'anarchist', 'people', 'color', 'created', 'forum', 'non', 'caucasian', 'anarchists', 'express', 'thoughts', 'racial', 'issues', 'within', 'anarchist', 'movement', 'particularly', 'within', 'united', 'states', 'national', 'anarchism', 'political', 'view', 'seeks', 'unite', 'cultural', 'ethnic', 'preservation', 'anarchist', 'views', 'adherents', 'propose', 'preventing', 'ethnic', 'groups', 'races', 'living', 'separate', 'autonomous', 'groupings', 'resisted', 'anti', 'racist', 'action', 'anarchist', 'group', 'many', 'anarchists', 'involved', 'focuses', 'publicly', 'confronting', 'racist', 'agitators', 'zapatista', 'movement', 'chiapas', 'mexico', 'cultural', 'sovereignty', 'group', 'anarchist', 'proclivities', 'neocolonialism', 'globalization', 'nearly', 'anarchists', 'oppose', 'neocolonialism', 'attempt', 'use', 'economic', 'coercion', 'global', 'scale', 'carried', 'state', 'institutions', 'world', 'bank', 'world', 'trade', 'organization', 'group', 'eight', 'world', 'economic', 'forum', 'globalization', 'ambiguous', 'term', 'different', 'meanings', 'different', 'anarchist', 'factions', 'anarchists', 'use', 'term', 'mean', 'neocolonialism', 'cultural', 'imperialism', 'may', 'see', 'related', 'many', 'active', 'anti', 'globalization', 'movement', 'others', 'particularly', 'anarcho', 'capitalists', 'use', 'globalization', 'mean', 'worldwide', 'expansion', 'division', 'labor', 'trade', 'see', 'beneficial', 'long', 'governments', 'intervene', 'parallel', 'structures', 'many', 'anarchists', 'try', 'set', 'alternatives', 'state', 'supported', 'institutions', 'outposts', 'food', 'bombs', 'infoshops', 'educational', 'systems', 'home', 'schooling', 'neighborhood', 'mediation', 'arbitration', 'groups', 'idea', 'create', 'structures', 'new', 'anti', 'authoritarian', 'society', 'shell', 'old', 'authoritarian', 'one', 'technology', 'recent', 'technological', 'developments', 'made', 'anarchist', 'cause', 'easier', 'advance', 'conceivable', 'people', 'many', 'people', 'use', 'internet', 'form', 'line', 'communities', 'intellectual', 'property', 'undermined', 'gift', 'culture', 'supported', 'sharing', 'music', 'files', 'open', 'source', 'programming', 'free', 'software', 'movement', 'cyber', 'communities', 'include', 'gnu', 'linux', 'indymedia', 'wiki', 'anarchists', 'see', 'information', 'technology', 'best', 'weapon', 'defeat', 'authoritarianism', 'even', 'think', 'information', 'age', 'makes', 'eventual', 'anarchy', 'inevitable', 'see', 'also', 'crypto', 'anarchism', 'cypherpunk', 'pacifism', 'anarchists', 'consider', 'pacifism', 'opposition', 'war', 'inherent', 'philosophy', 'anarcho', 'pacifists', 'take', 'follow', 'leo', 'tolstoy', 'belief', 'non', 'violence', 'anarchists', 'see', 'war', 'activity', 'state', 'seeks', 'gain', 'consolidate', 'power', 'domestically', 'foreign', 'lands', 'subscribe', 'randolph', 'bourne', 'view', 'war', 'health', 'state', 'lot', 'anarchist', 'activity', 'anti', 'war', 'based', 'parliamentarianism', 'general', 'terms', 'anarchist', 'ethos', 'opposes', 'voting', 'elections', 'voting', 'amounts', 'condoning', 'state', 'voluntaryism', 'anarchist', 'school', 'thought', 'emphasizes', 'tending', 'garden', 'neither', 'ballots', 'bullets', 'anarchist', 'case', 'voting', 'explained', 'ethics', 'voting', 'george', 'h', 'smith', 'also', 'see', 'voting', 'anarchists', 'oxymoron', 'joe', 'peacott', 'writings', 'fred', 'woodworth', 'sectarianism', 'anarchist', 'schools', 'thought', 'degree', 'sectarian', 'often', 'difference', 'opinion', 'within', 'school', 'react', 'interact', 'schools', 'panarchists', 'believe', 'possible', 'variety', 'modes', 'social', 'life', 'coexist', 'compete', 'anarchists', 'view', 'opposing', 'schools', 'social', 'impossibility', 'resist', 'interaction', 'others', 'see', 'opportunities', 'coalition', 'building', 'least', 'temporary', 'alliances', 'specific', 'purposes', 'see', 'anarchism', 'without', 'adjectives', 'criticisms', 'anarchism', 'main', 'article', 'criticisms', 'anarchism', 'violence', 'since', 'anarchism', 'often', 'associated', 'violence', 'destruction', 'people', 'seen', 'violent', 'hand', 'hand', 'frederick', 'engels', 'criticsed', 'anarchists', 'violent', 'enough', 'revolution', 'certainly', 'authoritarian', 'thing', 'act', 'whereby', 'one', 'part', 'population', 'imposes', 'upon', 'part', 'means', 'rifles', 'bayonets', 'cannon', 'authoritarian', 'means', 'victorious', 'party', 'want', 'fought', 'vain', 'must', 'maintain', 'rule', 'means', 'terror', 'arms', 'inspire', 'reactionists', 'would', 'paris', 'commune', 'lasted', 'single', 'day', 'made', 'use', 'authority', 'armed', 'people', 'bourgeois', 'utopianism', 'anarchism', 'often', 'criticised', 'unfeasible', 'plain', 'utopian', 'even', 'many', 'agree', 'nice', 'idea', 'principle', 'example', 'carl', 'landauer', 'book', 'european', 'socialism', 'criticizes', 'anarchism', 'unrealistically', 'utopian', 'holds', 'government', 'lesser', 'evil', 'society', 'without', 'repressive', 'force', 'holds', 'belief', 'ill', 'intentions', 'cease', 'repressive', 'force', 'disappears', 'absurdity', 'however', 'must', 'noted', 'anarchists', 'utopian', 'view', 'anarchism', 'example', 'benjamin', 'tucker', 'advocate', 'privately', 'funded', 'institutions', 'defend', 'individual', 'liberty', 'property', 'however', 'anarchists', 'sir', 'herbert', 'read', 'proudly', 'accept', 'characterization', 'utopian', 'class', 'character', 'marxists', 'characterised', 'anarchism', 'expression', 'class', 'interests', 'petite', 'bourgeoisie', 'perhaps', 'lumpenproletariat', 'see', 'e', 'g', 'plekhanov', 'marxist', 'critique', 'one', 'eight', 'nine', 'five', 'anarchists', 'also', 'characterised', 'spoilt', 'middle', 'class', 'dilettantes', 'recently', 'relation', 'anti', 'capitalist', 'protesters', 'tacit', 'authoritarianism', 'recent', 'decades', 'anarchism', 'criticised', 'situationists', 'post', 'anarchists', 'others', 'preserving', 'tacitly', 'statist', 'authoritarian', 'bureaucratic', 'tendencies', 'behind', 'dogmatic', 'facade', 'hypocrisy', 'critics', 'point', 'sexist', 'racist', 'views', 'prominent', 'anarchists', 'notably', 'proudhon', 'bakunin', 'examples', 'hypocrisy', 'inherent', 'within', 'anarchism', 'many', 'anarchists', 'however', 'dismiss', 'personal', 'prejudices', 'one', 'nine', 'th', 'century', 'theorists', 'influence', 'beliefs', 'present', 'day', 'anarchists', 'others', 'criticise', 'modern', 'anarchism', 'continuing', 'eurocentric', 'reference', 'impact', 'anarchist', 'thinkers', 'like', 'proudhon', 'fascism', 'groups', 'like', 'cercle', 'proudhon', 'anarcho', 'capitalist', 'bryan', 'caplan', 'argues', 'treatment', 'fascists', 'suspected', 'fascist', 'sympathizers', 'spanish', 'anarchists', 'spanish', 'civil', 'war', 'form', 'illegitimate', 'coercion', 'making', 'proffessed', 'anarchists', 'ultimately', 'third', 'faction', 'totalitarians', 'alongside', 'communists', 'fascists', 'also', 'criticizes', 'willingness', 'cnt', 'join', 'statist', 'republican', 'government', 'civil', 'war', 'references', 'stanley', 'g', 'payne', 'book', 'franco', 'regime', 'claims', 'cnt', 'entered', 'negotiations', 'fascist', 'government', 'six', 'years', 'war', 'cultural', 'phenomena', 'noam', 'chomsky', 'one', 'nine', 'two', 'eight', 'kind', 'anarchism', 'easily', 'encountered', 'popular', 'culture', 'represented', 'celebrities', 'publicly', 'identify', 'anarchists', 'although', 'anarchists', 'reject', 'focus', 'famous', 'living', 'individuals', 'inherently', 'litist', 'following', 'figures', 'examples', 'prominent', 'publicly', 'self', 'avowed', 'anarchists', 'mit', 'professor', 'linguistics', 'noam', 'chomsky', 'science', 'fiction', 'author', 'ursula', 'k', 'le', 'guin', 'social', 'historian', 'howard', 'zinn', 'entertainer', 'author', 'hans', 'alfredsson', 'avant', 'garde', 'artist', 'nicol', 'rossell', 'denmark', 'freetown', 'christiania', 'created', 'downtown', 'copenhagen', 'housing', 'employment', 'crisis', 'western', 'europe', 'led', 'formation', 'communes', 'squatter', 'movements', 'like', 'one', 'still', 'thriving', 'barcelona', 'catalonia', 'militant', 'resistance', 'neo', 'nazi', 'groups', 'places', 'like', 'germany', 'uprisings', 'autonomous', 'marxism', 'situationist', 'autonomist', 'groups', 'france', 'italy', 'also', 'helped', 'give', 'popularity', 'anti', 'authoritarian', 'non', 'capitalist', 'ideas', 'various', 'musical', 'styles', 'anarchism', 'rose', 'popularity', 'famous', 'linking', 'anarchist', 'ideas', 'music', 'punk', 'rock', 'although', 'modern', 'age', 'hip', 'hop', 'folk', 'music', 'also', 'becoming', 'important', 'mediums', 'spreading', 'anarchist', 'message', 'uk', 'associated', 'punk', 'rock', 'movement', 'band', 'crass', 'celebrated', 'anarchist', 'pacifist', 'ideas', 'dutch', 'punk', 'band', 'ex', 'exemplifies', 'expression', 'details', 'see', 'anarcho', 'punk', 'see', 'also', 'many', 'concepts', 'relevant', 'topic', 'anarchism', 'brief', 'summary', 'also', 'extensive', 'list', 'anarchist', 'concepts', 'individualist', 'anarchism', 'anarcho', 'communism', 'anarcho', 'syndicalism', 'anarcho', 'capitalism', 'mutualism', 'christian', 'anarchism', 'anarcha', 'feminism', 'green', 'anarchism', 'nihilist', 'anarchism', 'anarcho', 'nationalism', 'black', 'anarchism', 'national', 'anarchism', 'post', 'anarchism', 'post', 'left', 'anarchism', 'libertarian', 'socialism', 'anarchist', 'symbolism', 'list', 'anarchism', 'links', 'list', 'anarchists', 'list', 'anarchist', 'organizations', 'major', 'conflicts', 'within', 'anarchist', 'thought', 'past', 'present', 'anarchist', 'communities', 'historical', 'events', 'paris', 'commune', 'one', 'eight', 'seven', 'one', 'haymarket', 'riot', 'one', 'eight', 'eight', 'six', 'makhnovschina', 'one', 'nine', 'one', 'seven', 'one', 'nine', 'two', 'one', 'kronstadt', 'rebellion', 'one', 'nine', 'two', 'one', 'spanish', 'revolution', 'one', 'nine', 'three', 'six', 'see', 'anarchism', 'spain', 'spanish', 'revolution', 'may', 'one', 'nine', 'six', 'eight', 'france', 'one', 'nine', 'six', 'eight', 'wto', 'meeting', 'seattle', 'one', 'nine', 'nine', 'nine', 'books', 'following', 'sample', 'books', 'referenced', 'page', 'complete', 'list', 'found', 'list', 'anarchist', 'books', 'mikhail', 'bakunin', 'god', 'state', 'emma', 'goldman', 'anarchism', 'essays', 'peter', 'kropotkin', 'mutual', 'aid', 'pierre', 'joseph', 'proudhon', 'property', 'rudolf', 'rocker', 'anarcho', 'syndicalism', 'murray', 'rothbard', 'ethics', 'liberty', 'max', 'stirner', 'ego', 'leo', 'tolstoy', 'kingdom', 'god', 'within', 'anarchism', 'region', 'culture', 'african', 'anarchism', 'anarchism', 'spain', 'anarchism', 'english', 'tradition', 'chinese', 'anarchism', 'references', 'notes', 'corresponding', 'reference', 'article', 'might', 'used', 'politics', 'appleton', 'boston', 'anarchists', 'yarros', 'victor', 'liberty', 'vii', 'january', 'two', 'one', 'eight', 'nine', 'two', 'noam', 'chomsky', 'anarchism', 'noam', 'chomsky', 'external', 'links', 'overwhelming', 'diversity', 'number', 'links', 'relating', 'anarchism', 'extensively', 'covered', 'links', 'subpage', 'anarchoblogs', 'blogs', 'anarchists', 'anarchy', 'archives', 'extensively', 'archives', 'information', 'relating', 'famous', 'anarchists', 'includes', 'many', 'books', 'publications', 'hundreds', 'anarchists', 'listed', 'short', 'bios', 'links', 'dedicated', 'pages', 'daily', 'bleed', 'anarchist', 'encyclopedia', 'infoshop', 'org', 'wikipedia', 'page', 'industrial', 'workers', 'world', 'anarchism', 'forms', 'government', 'political', 'ideology', 'entry', 'points', 'political', 'theories', 'social', 'philosophy', 'autism', 'classified', 'neurodevelopmental', 'disorder', 'manifests', 'markedly', 'abnormal', 'social', 'interaction', 'communication', 'ability', 'patterns', 'interests', 'patterns', 'behavior', 'although', 'specific', 'etiology', 'autism', 'unknown', 'many', 'researchers', 'suspect', 'autism', 'results', 'genetically', 'mediated', 'vulnerabilities', 'environmental', 'triggers', 'disagreement', 'magnitude', 'nature', 'mechanisms', 'environmental', 'factors', 'researchers', 'found', 'least', 'seven', 'major', 'genes', 'prevalent', 'among', 'individuals', 'diagnosed', 'autistic', 'estimate', 'autism', 'occurs', 'many', 'one', 'united', 'states', 'child', 'one', 'six', 'six', 'however', 'national', 'institute', 'mental', 'health', 'gives', 'conservative', 'estimate', 'one', 'one', 'zero', 'zero', 'zero', 'families', 'already', 'one', 'autistic', 'child', 'odds', 'second', 'autistic', 'child', 'may', 'high', 'one', 'twenty', 'diagnosis', 'based', 'list', 'psychiatric', 'criteria', 'series', 'standardized', 'clinical', 'tests', 'may', 'also', 'used', 'autism', 'may', 'physiologically', 'obvious', 'complete', 'physical', 'neurological', 'evaluation', 'typically', 'part', 'diagnosing', 'autism', 'speculate', 'autism', 'single', 'condition', 'group', 'several', 'distinct', 'conditions', 'manifest', 'similar', 'ways', 'definition', 'autism', 'must', 'manifest', 'delays', 'social', 'interaction', 'language', 'used', 'social', 'communication', 'symbolic', 'imaginative', 'play', 'onset', 'prior', 'age', 'three', 'years', 'according', 'diagnostic', 'statistical', 'manual', 'mental', 'disorders', 'icd', 'one', 'zero', 'also', 'says', 'symptoms', 'must', 'manifest', 'age', 'three', 'years', 'large', 'increases', 'reported', 'incidence', 'autism', 'reasons', 'heavily', 'debated', 'researchers', 'psychology', 'related', 'fields', 'within', 'scientific', 'community', 'children', 'autism', 'improved', 'social', 'skills', 'point', 'fully', 'participate', 'mainstream', 'education', 'social', 'events', 'lingering', 'concerns', 'absolute', 'cure', 'autism', 'impossible', 'current', 'technology', 'however', 'many', 'autistic', 'children', 'adults', 'able', 'communicate', 'least', 'writing', 'opposed', 'attempts', 'cure', 'conditions', 'see', 'conditions', 'part', 'history', 'dr', 'hans', 'asperger', 'described', 'form', 'autism', 'one', 'nine', 'four', 'zero', 'later', 'became', 'known', 'asperger', 'syndrome', 'word', 'autism', 'first', 'used', 'english', 'language', 'swiss', 'psychiatrist', 'eugene', 'bleuler', 'one', 'nine', 'one', 'two', 'number', 'american', 'journal', 'insanity', 'comes', 'greek', 'word', 'self', 'however', 'classification', 'autism', 'occur', 'middle', 'twentieth', 'century', 'one', 'nine', 'four', 'three', 'psychiatrist', 'dr', 'leo', 'kanner', 'johns', 'hopkins', 'hospital', 'baltimore', 'reported', 'one', 'one', 'child', 'patients', 'striking', 'behavioral', 'similarities', 'introduced', 'label', 'early', 'infantile', 'autism', 'suggested', 'autism', 'greek', 'autos', 'meaning', 'self', 'describe', 'fact', 'children', 'seemed', 'lack', 'interest', 'people', 'although', 'kanner', 'first', 'paper', 'subject', 'published', 'defunct', 'journal', 'nervous', 'child', 'almost', 'every', 'characteristic', 'originally', 'described', 'still', 'regarded', 'typical', 'autistic', 'spectrum', 'disorders', 'time', 'austrian', 'scientist', 'dr', 'hans', 'asperger', 'described', 'different', 'form', 'autism', 'became', 'known', 'asperger', 'syndrome', 'widespread', 'recognition', 'asperger', 'work', 'delayed', 'world', 'war', 'ii', 'germany', 'fact', 'seminal', 'paper', 'translated', 'english', 'almost', 'five', 'zero', 'years', 'majority', 'work', 'widely', 'read', 'one', 'nine', 'nine', 'seven', 'thus', 'two', 'conditions', 'described', 'today', 'listed', 'diagnostic', 'statistical', 'manual', 'mental', 'disorders', 'dsm', 'iv', 'tr', 'fourth', 'edition', 'text', 'revision', 'one', 'two', 'five', 'pervasive', 'developmental', 'disorders', 'pdd', 'often', 'referred', 'today', 'autism', 'spectrum', 'disorders', 'asd', 'conditions', 'characterized', 'varying', 'degrees', 'difference', 'communication', 'skills', 'social', 'interactions', 'restricted', 'repetitive', 'stereotyped', 'patterns', 'behavior', 'clinicians', 'today', 'solely', 'use', 'dsm', 'iv', 'criteria', 'determining', 'diagnosis', 'autism', 'based', 'absence', 'delay', 'certain', 'developmental', 'milestones', 'many', 'clinicians', 'instead', 'use', 'alternate', 'means', 'combination', 'thereof', 'accurately', 'determine', 'diagnosis', 'terminology', 'referring', 'someone', 'diagnosed', 'autism', 'term', 'autistic', 'often', 'used', 'however', 'term', 'person', 'autism', 'used', 'instead', 'referred', 'person', 'first', 'terminology', 'autistic', 'community', 'generally', 'prefers', 'term', 'autistic', 'reasons', 'fairly', 'controversial', 'article', 'uses', 'term', 'autistic', 'see', 'talk', 'page', 'characteristics', 'dr', 'leo', 'kanner', 'introduced', 'label', 'early', 'infantile', 'autism', 'one', 'nine', 'four', 'three', 'great', 'diversity', 'skills', 'behaviors', 'individuals', 'diagnosed', 'autistic', 'physicians', 'often', 'arrive', 'different', 'conclusions', 'appropriate', 'diagnosis', 'much', 'due', 'sensory', 'system', 'autistic', 'quite', 'different', 'sensory', 'system', 'people', 'since', 'certain', 'stimulations', 'affect', 'autistic', 'differently', 'non', 'autistic', 'degree', 'sensory', 'system', 'affected', 'varies', 'wildly', 'one', 'autistic', 'person', 'another', 'nevertheless', 'professionals', 'within', 'pediatric', 'care', 'development', 'often', 'look', 'early', 'indicators', 'autism', 'order', 'initiate', 'treatment', 'early', 'possible', 'however', 'people', 'believe', 'treatment', 'autism', 'either', 'believe', 'autism', 'disorder', 'believe', 'treatment', 'harm', 'good', 'social', 'development', 'typically', 'developing', 'infants', 'social', 'beings', 'early', 'life', 'things', 'gaze', 'people', 'turn', 'toward', 'voices', 'grasp', 'finger', 'even', 'smile', 'contrast', 'autistic', 'children', 'prefer', 'objects', 'faces', 'seem', 'tremendous', 'difficulty', 'learning', 'engage', 'give', 'take', 'everyday', 'human', 'interaction', 'even', 'first', 'months', 'life', 'many', 'seem', 'indifferent', 'people', 'avoid', 'eye', 'contact', 'interact', 'often', 'non', 'autistic', 'children', 'children', 'autism', 'often', 'appear', 'prefer', 'alone', 'company', 'others', 'may', 'passively', 'accept', 'things', 'hugs', 'cuddling', 'without', 'reciprocating', 'resist', 'attention', 'altogether', 'later', 'seldom', 'seek', 'comfort', 'others', 'respond', 'parents', 'displays', 'anger', 'affection', 'typical', 'way', 'research', 'suggested', 'although', 'autistic', 'children', 'attached', 'parents', 'expression', 'attachment', 'unusual', 'difficult', 'interpret', 'parents', 'looked', 'forward', 'joys', 'cuddling', 'teaching', 'playing', 'child', 'may', 'feel', 'crushed', 'lack', 'expected', 'attachment', 'behavior', 'children', 'autism', 'appear', 'lack', 'theory', 'mind', 'ability', 'see', 'things', 'another', 'person', 'perspective', 'behavior', 'cited', 'exclusive', 'human', 'beings', 'age', 'five', 'possibly', 'higher', 'primates', 'adult', 'gorillas', 'chimpanzees', 'bonobos', 'typical', 'five', 'year', 'olds', 'develop', 'insights', 'people', 'different', 'knowledge', 'feelings', 'intentions', 'interpretations', 'based', 'upon', 'social', 'cues', 'e', 'g', 'gestures', 'facial', 'expressions', 'individual', 'autism', 'seems', 'lack', 'interpretation', 'skills', 'inability', 'leaves', 'unable', 'predict', 'understand', 'people', 'actions', 'social', 'alienation', 'autistic', 'asperger', 'people', 'intense', 'childhood', 'many', 'imaginary', 'friends', 'companionship', 'however', 'imaginary', 'friend', 'necessarily', 'sign', 'autism', 'also', 'occurs', 'non', 'autistic', 'children', 'although', 'universal', 'common', 'autistic', 'people', 'regulate', 'behavior', 'take', 'form', 'crying', 'verbal', 'outbursts', 'may', 'seem', 'proportion', 'situation', 'individuals', 'autism', 'generally', 'prefer', 'consistent', 'routines', 'environments', 'may', 'react', 'negatively', 'changes', 'uncommon', 'individuals', 'exhibit', 'aggression', 'increased', 'levels', 'self', 'stimulatory', 'behavior', 'self', 'injury', 'extensive', 'withdrawal', 'overwhelming', 'situations', 'sensory', 'system', 'key', 'indicator', 'clinicians', 'making', 'proper', 'assessment', 'autism', 'would', 'include', 'looking', 'symptoms', 'much', 'like', 'found', 'sensory', 'integration', 'dysfunction', 'children', 'exhibit', 'problems', 'coping', 'normal', 'sensory', 'input', 'indicators', 'disorder', 'include', 'oversensitivity', 'underreactivity', 'touch', 'movement', 'sights', 'sounds', 'physical', 'clumsiness', 'carelessness', 'poor', 'body', 'awareness', 'tendency', 'easily', 'distracted', 'impulsive', 'physical', 'verbal', 'behavior', 'activity', 'level', 'unusually', 'high', 'low', 'unwinding', 'calming', 'oneself', 'difficulty', 'learning', 'new', 'movements', 'difficulty', 'making', 'transitions', 'one', 'situation', 'another', 'social', 'emotional', 'problems', 'delays', 'speech', 'language', 'motor', 'skills', 'specific', 'learning', 'difficulties', 'delays', 'academic', 'achievement', 'one', 'common', 'example', 'individual', 'autism', 'hearing', 'person', 'autism', 'may', 'trouble', 'hearing', 'certain', 'people', 'people', 'louder', 'usual', 'person', 'autism', 'may', 'unable', 'filter', 'sounds', 'certain', 'situations', 'large', 'crowd', 'people', 'see', 'cocktail', 'party', 'effect', 'however', 'perhaps', 'part', 'autism', 'tends', 'vary', 'person', 'person', 'examples', 'may', 'apply', 'every', 'autistic', 'noted', 'sensory', 'difficulties', 'although', 'reportedly', 'common', 'autistics', 'part', 'dsm', 'iv', 'diagnostic', 'criteria', 'autistic', 'disorder', 'communication', 'difficulties', 'age', 'three', 'typical', 'children', 'passed', 'predictable', 'language', 'learning', 'milestones', 'one', 'earliest', 'babbling', 'first', 'birthday', 'typical', 'toddler', 'says', 'words', 'turns', 'hears', 'name', 'points', 'wants', 'toy', 'offered', 'something', 'distasteful', 'makes', 'clear', 'answer', 'speech', 'development', 'people', 'autism', 'takes', 'different', 'paths', 'remain', 'mute', 'throughout', 'lives', 'fully', 'literate', 'able', 'communicate', 'ways', 'images', 'sign', 'language', 'typing', 'far', 'natural', 'infants', 'later', 'show', 'signs', 'autism', 'coo', 'babble', 'first', 'months', 'life', 'stop', 'soon', 'afterwards', 'others', 'may', 'delayed', 'developing', 'language', 'late', 'teenage', 'years', 'still', 'inability', 'speak', 'mean', 'people', 'autism', 'unintelligent', 'unaware', 'given', 'appropriate', 'accommodations', 'many', 'happily', 'converse', 'hours', 'often', 'found', 'online', 'chat', 'rooms', 'discussion', 'boards', 'websites', 'even', 'using', 'communication', 'devices', 'autism', 'community', 'social', 'events', 'autreat', 'speak', 'often', 'use', 'language', 'unusual', 'ways', 'retaining', 'features', 'earlier', 'stages', 'language', 'development', 'long', 'periods', 'throughout', 'lives', 'speak', 'single', 'words', 'others', 'repeat', 'phrase', 'repeat', 'hear', 'condition', 'called', 'echolalia', 'sing', 'song', 'repetitions', 'particular', 'calming', 'joyous', 'activity', 'many', 'autistic', 'adults', 'engage', 'many', 'people', 'autism', 'strong', 'tonal', 'sense', 'often', 'understand', 'spoken', 'language', 'children', 'may', 'exhibit', 'slight', 'delays', 'language', 'even', 'seem', 'precocious', 'language', 'unusually', 'large', 'vocabularies', 'great', 'difficulty', 'sustaining', 'typical', 'conversations', 'give', 'take', 'non', 'autistic', 'conversation', 'hard', 'although', 'often', 'carry', 'monologue', 'favorite', 'subject', 'giving', 'one', 'else', 'opportunity', 'comment', 'given', 'chance', 'converse', 'autistics', 'comfortably', 'parallel', 'monologue', 'taking', 'turns', 'expressing', 'views', 'information', 'neurotypicals', 'people', 'without', 'autism', 'trouble', 'understanding', 'autistic', 'body', 'languages', 'vocal', 'tones', 'phraseology', 'people', 'autism', 'similarly', 'trouble', 'things', 'people', 'without', 'autism', 'particular', 'autistic', 'language', 'abilities', 'tend', 'highly', 'literal', 'people', 'without', 'autism', 'often', 'inappropriately', 'attribute', 'hidden', 'meaning', 'people', 'autism', 'say', 'expect', 'person', 'autism', 'sense', 'unstated', 'meaning', 'words', 'body', 'language', 'people', 'autism', 'difficult', 'people', 'understand', 'facial', 'expressions', 'movements', 'gestures', 'may', 'easily', 'understood', 'people', 'autism', 'match', 'used', 'people', 'also', 'tone', 'voice', 'much', 'subtle', 'inflection', 'reflecting', 'feelings', 'auditory', 'system', 'person', 'without', 'autism', 'often', 'sense', 'fluctuations', 'seems', 'non', 'autistic', 'people', 'like', 'high', 'pitched', 'sing', 'song', 'flat', 'robot', 'like', 'voice', 'common', 'autistic', 'children', 'autistic', 'children', 'relatively', 'good', 'language', 'skills', 'speak', 'like', 'little', 'adults', 'rather', 'communicating', 'current', 'age', 'level', 'one', 'things', 'lead', 'problems', 'since', 'non', 'autistic', 'people', 'often', 'unfamiliar', 'autistic', 'body', 'language', 'since', 'autistic', 'natural', 'language', 'may', 'tend', 'towards', 'speech', 'autistic', 'people', 'often', 'struggle', 'let', 'people', 'know', 'need', 'anybody', 'might', 'situation', 'may', 'scream', 'frustration', 'resort', 'grabbing', 'want', 'waiting', 'non', 'autistic', 'people', 'learn', 'communicate', 'people', 'autism', 'whatever', 'get', 'communication', 'difficulties', 'may', 'contribute', 'autistic', 'people', 'becoming', 'socially', 'anxious', 'depressed', 'repetitive', 'behaviors', 'although', 'people', 'autism', 'usually', 'appear', 'physically', 'normal', 'good', 'muscle', 'control', 'unusual', 'repetitive', 'motions', 'known', 'self', 'stimulation', 'stimming', 'may', 'set', 'apart', 'behaviors', 'might', 'extreme', 'highly', 'apparent', 'subtle', 'children', 'older', 'individuals', 'spend', 'lot', 'time', 'repeatedly', 'flapping', 'arms', 'wiggling', 'toes', 'others', 'suddenly', 'freeze', 'position', 'children', 'might', 'spend', 'hours', 'lining', 'cars', 'trains', 'certain', 'way', 'using', 'pretend', 'play', 'someone', 'accidentally', 'moves', 'one', 'toys', 'child', 'may', 'tremendously', 'upset', 'autistic', 'children', 'often', 'need', 'demand', 'absolute', 'consistency', 'environment', 'slight', 'change', 'routine', 'mealtimes', 'dressing', 'taking', 'bath', 'going', 'school', 'certain', 'time', 'route', 'extremely', 'disturbing', 'people', 'autism', 'sometimes', 'persistent', 'intense', 'preoccupation', 'example', 'child', 'might', 'obsessed', 'learning', 'vacuum', 'cleaners', 'train', 'schedules', 'lighthouses', 'often', 'show', 'great', 'interest', 'different', 'languages', 'numbers', 'symbols', 'science', 'topics', 'repetitive', 'behaviors', 'also', 'extend', 'spoken', 'word', 'well', 'perseveration', 'single', 'word', 'phrase', 'even', 'specific', 'number', 'times', 'also', 'become', 'part', 'child', 'daily', 'routine', 'effects', 'education', 'children', 'autism', 'affected', 'symptoms', 'every', 'day', 'unusual', 'characteristics', 'set', 'apart', 'everyday', 'normal', 'student', 'trouble', 'understanding', 'people', 'thoughts', 'feelings', 'trouble', 'understanding', 'teacher', 'may', 'telling', 'understand', 'facial', 'expressions', 'vocal', 'variations', 'hold', 'meanings', 'may', 'misinterpret', 'emotion', 'instructor', 'displaying', 'inability', 'fully', 'decipher', 'world', 'around', 'makes', 'education', 'stressful', 'teachers', 'need', 'aware', 'student', 'disorder', 'able', 'help', 'student', 'get', 'best', 'lessons', 'taught', 'students', 'learn', 'better', 'visual', 'aids', 'better', 'able', 'understand', 'material', 'presented', 'way', 'many', 'teachers', 'create', 'visual', 'schedules', 'autistic', 'students', 'allows', 'student', 'know', 'going', 'throughout', 'day', 'know', 'prepare', 'activity', 'next', 'autistic', 'children', 'trouble', 'going', 'one', 'activity', 'next', 'visual', 'schedule', 'help', 'reduce', 'stress', 'research', 'shown', 'working', 'pairs', 'may', 'beneficial', 'autistic', 'children', 'autistic', 'students', 'problems', 'schools', 'language', 'communication', 'socialization', 'well', 'feel', 'self', 'conscious', 'many', 'feel', 'always', 'outcasts', 'allowing', 'work', 'peers', 'make', 'friends', 'turn', 'help', 'cope', 'problems', 'arise', 'become', 'integrated', 'mainstream', 'environment', 'classroom', 'teacher', 'aide', 'also', 'useful', 'student', 'aide', 'able', 'give', 'elaborate', 'directions', 'teacher', 'may', 'time', 'explain', 'autistic', 'child', 'aide', 'also', 'facilitate', 'autistic', 'child', 'way', 'allow', 'stay', 'similar', 'level', 'rest', 'class', 'allows', 'partially', 'one', 'one', 'lesson', 'structure', 'child', 'still', 'able', 'stay', 'normal', 'classroom', 'given', 'extra', 'help', 'need', 'many', 'different', 'techniques', 'teachers', 'use', 'assist', 'students', 'teacher', 'needs', 'become', 'familiar', 'child', 'disorder', 'know', 'work', 'best', 'particular', 'child', 'every', 'child', 'going', 'different', 'teachers', 'able', 'adjust', 'every', 'one', 'students', 'autism', 'spectrum', 'disorders', 'typically', 'high', 'levels', 'anxiety', 'stress', 'particularly', 'social', 'environments', 'like', 'school', 'student', 'exhibits', 'aggressive', 'explosive', 'behavior', 'important', 'educational', 'teams', 'recognize', 'impact', 'stress', 'anxiety', 'preparing', 'students', 'new', 'situations', 'writing', 'social', 'stories', 'lower', 'anxiety', 'teaching', 'social', 'emotional', 'concepts', 'using', 'systematic', 'teaching', 'approaches', 'incredible', 'five', 'point', 'scale', 'cognitive', 'behavioral', 'strategies', 'increase', 'student', 'ability', 'control', 'excessive', 'behavioral', 'reactions', 'dsm', 'definition', 'autism', 'defined', 'section', 'two', 'nine', 'nine', 'zero', 'zero', 'diagnostic', 'statistical', 'manual', 'mental', 'disorders', 'dsm', 'iv', 'total', 'six', 'items', 'one', 'two', 'three', 'least', 'two', 'one', 'one', 'two', 'three', 'qualitative', 'impairment', 'social', 'interaction', 'manifested', 'least', 'two', 'following', 'marked', 'impairment', 'use', 'multiple', 'nonverbal', 'behaviors', 'eye', 'eye', 'gaze', 'facial', 'expression', 'body', 'postures', 'gestures', 'regulate', 'social', 'interaction', 'failure', 'develop', 'peer', 'relationships', 'appropriate', 'developmental', 'level', 'lack', 'spontaneous', 'seeking', 'share', 'enjoyment', 'interests', 'achievements', 'people', 'e', 'g', 'lack', 'showing', 'bringing', 'pointing', 'objects', 'interest', 'lack', 'social', 'emotional']\n"
          ]
        }
      ]
    },
    {
      "cell_type": "code",
      "source": [
        "model_v2 = Word2Vec(sentences=full_text8, vector_size=100, window=5, min_count=5, workers=4, epochs=5)"
      ],
      "metadata": {
        "id": "w_i7HJZjLHGb"
      },
      "execution_count": 15,
      "outputs": []
    },
    {
      "cell_type": "code",
      "source": [
        "similar_words = model_v2.wv.most_similar(\"king\", topn=5)\n",
        "print(\"Most similar words to 'king':\", similar_words)\n",
        "similar_words = model_v2.wv.most_similar(\"queen\", topn=5)\n",
        "print(\"Most similar words to 'queen':\", similar_words)\n",
        "similar_words = model_v2.wv.most_similar(\"man\", topn=5)\n",
        "print(\"Most similar words to 'man':\", similar_words)\n",
        "similar_words = model_v2.wv.most_similar(\"woman\", topn=5)\n",
        "print(\"Most similar words to 'woman':\", similar_words)\n",
        "similar_words = model_v2.wv.most_similar(\"friday\", topn=5)\n",
        "print(\"Most similar words to 'friday':\", similar_words)\n",
        "similar_words = model_v2.wv.most_similar(\"said\", topn=5)\n",
        "print(\"Most similar words to 'said':\", similar_words)\n",
        "similar_words = model_v2.wv.most_similar(\"gold\", topn=5)\n",
        "print(\"Most similar words to 'gold':\", similar_words)\n",
        "similar_words = model_v2.wv.most_similar(\"recent\", topn=5)\n",
        "print(\"Most similar words to 'recent':\", similar_words)\n",
        "similar_words = model_v2.wv.most_similar(\"took\", topn=5)\n",
        "print(\"Most similar words to 'took':\", similar_words)\n",
        "similar_words = model_v2.wv.most_similar(\"place\", topn=5)\n",
        "print(\"Most similar words to 'place':\", similar_words)\n",
        "# Perform vector arithmetic: king - man + woman\n",
        "result = model.wv_v2.most_similar(positive=[\"king\", \"woman\"], negative=[\"man\"], topn=1)\n",
        "print(\"Result of 'king' - 'man' + 'woman':\", result)\n",
        "\n",
        "result = model_v2.wv.most_similar(positive=[\"king\", \"man\"], negative=[\"woman\"], topn=1)\n",
        "print(\"Result of 'king' - 'woman' + 'man':\", result)\n",
        "\n",
        "result = model_v2.wv.most_similar(positive=[\"queen\", \"man\"], negative=[\"woman\"], topn=1)\n",
        "print(\"Result of 'queen' - 'woman' + 'man':\", result)\n",
        "\n",
        "result = model_v2.wv.most_similar(positive=[\"man\", \"woman\"], negative=[\"king\"], topn=1)\n",
        "print(\"Result of 'man' - 'king' + 'woman':\", result)\n",
        "\n",
        "result = model_v2.wv.most_similar(positive=[\"woman\", \"man\"], negative=[\"queen\"], topn=1)\n",
        "print(\"Result of 'woman' - 'queen' + 'man':\", result)"
      ],
      "metadata": {
        "colab": {
          "base_uri": "https://localhost:8080/"
        },
        "id": "mA8mKAPhLZ5p",
        "outputId": "fbe9c341-192b-44a0-d30f-172d0ca0e220"
      },
      "execution_count": 19,
      "outputs": [
        {
          "output_type": "stream",
          "name": "stdout",
          "text": [
            "Most similar words to 'king': [('prince', 0.6981583833694458), ('kings', 0.6908817291259766), ('throne', 0.6638656258583069), ('queen', 0.6602246761322021), ('vii', 0.6473566889762878)]\n",
            "Most similar words to 'queen': [('elizabeth', 0.8098626732826233), ('prince', 0.7090126872062683), ('princess', 0.7047924399375916), ('victoria', 0.6968904137611389), ('crown', 0.6709514856338501)]\n",
            "Most similar words to 'man': [('woman', 0.7052797675132751), ('girl', 0.6160919070243835), ('stranger', 0.5693660974502563), ('wise', 0.5645959973335266), ('wonder', 0.559707522392273)]\n",
            "Most similar words to 'woman': [('girl', 0.7590931057929993), ('child', 0.7204766273498535), ('man', 0.7052797675132751), ('baby', 0.6948824524879456), ('babies', 0.6922984719276428)]\n",
            "Most similar words to 'friday': [('thursday', 0.843805193901062), ('wednesday', 0.8348925113677979), ('monday', 0.7949307560920715), ('saturday', 0.7852622270584106), ('afternoon', 0.7757830619812012)]\n",
            "Most similar words to 'said': [('saying', 0.7211419939994812), ('replied', 0.7201221585273743), ('knew', 0.7002515196800232), ('told', 0.677903950214386), ('pleased', 0.6707556247711182)]\n",
            "Most similar words to 'gold': [('silver', 0.8614808320999146), ('minting', 0.6116869449615479), ('precious', 0.6085663437843323), ('diamonds', 0.601220965385437), ('medals', 0.594727098941803)]\n",
            "Most similar words to 'recent': [('earlier', 0.5923800468444824), ('past', 0.5873911380767822), ('intervening', 0.5870441794395447), ('formative', 0.5771795511245728), ('previous', 0.5482847690582275)]\n",
            "Most similar words to 'took': [('taking', 0.7886908650398254), ('taken', 0.7412394285202026), ('take', 0.713835597038269), ('takes', 0.6856957077980042), ('returned', 0.6203895807266235)]\n",
            "Most similar words to 'place': [('advantage', 0.5472729206085205), ('seriously', 0.47868841886520386), ('places', 0.46917489171028137), ('precedence', 0.46843546628952026), ('account', 0.4621049165725708)]\n"
          ]
        },
        {
          "output_type": "error",
          "ename": "AttributeError",
          "evalue": "'Word2Vec' object has no attribute 'wv_v2'",
          "traceback": [
            "\u001b[0;31m---------------------------------------------------------------------------\u001b[0m",
            "\u001b[0;31mAttributeError\u001b[0m                            Traceback (most recent call last)",
            "\u001b[0;32m<ipython-input-19-69d10d07f9be>\u001b[0m in \u001b[0;36m<cell line: 22>\u001b[0;34m()\u001b[0m\n\u001b[1;32m     20\u001b[0m \u001b[0mprint\u001b[0m\u001b[0;34m(\u001b[0m\u001b[0;34m\"Most similar words to 'place':\"\u001b[0m\u001b[0;34m,\u001b[0m \u001b[0msimilar_words\u001b[0m\u001b[0;34m)\u001b[0m\u001b[0;34m\u001b[0m\u001b[0;34m\u001b[0m\u001b[0m\n\u001b[1;32m     21\u001b[0m \u001b[0;31m# Perform vector arithmetic: king - man + woman\u001b[0m\u001b[0;34m\u001b[0m\u001b[0;34m\u001b[0m\u001b[0m\n\u001b[0;32m---> 22\u001b[0;31m \u001b[0mresult\u001b[0m \u001b[0;34m=\u001b[0m \u001b[0mmodel\u001b[0m\u001b[0;34m.\u001b[0m\u001b[0mwv_v2\u001b[0m\u001b[0;34m.\u001b[0m\u001b[0mmost_similar\u001b[0m\u001b[0;34m(\u001b[0m\u001b[0mpositive\u001b[0m\u001b[0;34m=\u001b[0m\u001b[0;34m[\u001b[0m\u001b[0;34m\"king\"\u001b[0m\u001b[0;34m,\u001b[0m \u001b[0;34m\"woman\"\u001b[0m\u001b[0;34m]\u001b[0m\u001b[0;34m,\u001b[0m \u001b[0mnegative\u001b[0m\u001b[0;34m=\u001b[0m\u001b[0;34m[\u001b[0m\u001b[0;34m\"man\"\u001b[0m\u001b[0;34m]\u001b[0m\u001b[0;34m,\u001b[0m \u001b[0mtopn\u001b[0m\u001b[0;34m=\u001b[0m\u001b[0;36m1\u001b[0m\u001b[0;34m)\u001b[0m\u001b[0;34m\u001b[0m\u001b[0;34m\u001b[0m\u001b[0m\n\u001b[0m\u001b[1;32m     23\u001b[0m \u001b[0mprint\u001b[0m\u001b[0;34m(\u001b[0m\u001b[0;34m\"Result of 'king' - 'man' + 'woman':\"\u001b[0m\u001b[0;34m,\u001b[0m \u001b[0mresult\u001b[0m\u001b[0;34m)\u001b[0m\u001b[0;34m\u001b[0m\u001b[0;34m\u001b[0m\u001b[0m\n\u001b[1;32m     24\u001b[0m \u001b[0;34m\u001b[0m\u001b[0m\n",
            "\u001b[0;31mAttributeError\u001b[0m: 'Word2Vec' object has no attribute 'wv_v2'"
          ]
        }
      ]
    },
    {
      "cell_type": "code",
      "source": [],
      "metadata": {
        "id": "yqot6rM6N7J0"
      },
      "execution_count": null,
      "outputs": []
    }
  ]
}