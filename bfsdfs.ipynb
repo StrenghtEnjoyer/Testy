{
 "cells": [
  {
   "cell_type": "code",
   "execution_count": 1,
   "metadata": {},
   "outputs": [],
   "source": [
    "import random\n",
    "import numpy as np\n",
    "\n",
    "\n",
    "class Cities:\n",
    "    def __init__(self, number_id, localization, neighbours):\n",
    "        self.number_id = number_id\n",
    "        self.localization = None\n",
    "        self.neighbours = None\n",
    "\n",
    "    def get_localization(self):\n",
    "        x = random.randint(-100,100)\n",
    "        y = random.randint(-100,100)\n",
    "        z = random.randint(0,50)\n",
    "\n",
    "        self.localization = [x,y,z]\n",
    "    \n",
    "    def get_road(self, number_id, other_cities, possibility):\n",
    "        ids = other_cities\n",
    "        roads = []\n",
    "        for connection in ids:\n",
    "            if possibility[0] == True:\n",
    "                roads.append(connection)\n",
    "                possibility.remove(possibility[0])\n",
    "            else:\n",
    "                possibility.remove(possibility[0])\n",
    "        roads_dict = {number_id : roads}\n",
    "        self.neighbours = roads_dict\n",
    "    \n",
    "    def show_city(self):\n",
    "        print(self.number_id, self.localization, self.neighbours)\n",
    "\n",
    "        \n",
    "    \n",
    "    \n",
    "\n",
    "        "
   ]
  },
  {
   "cell_type": "code",
   "execution_count": 6,
   "metadata": {},
   "outputs": [
    {
     "name": "stdout",
     "output_type": "stream",
     "text": [
      "1 [26, 57, 50] {1: [2, 3, 4]}\n",
      "2 [52, -90, 30] {2: [1, 3, 4]}\n",
      "3 [45, -73, 5] {3: [1, 2, 4]}\n",
      "4 [-6, -16, 19] {4: [1, 2]}\n"
     ]
    }
   ],
   "source": [
    "city1 = Cities(1, None, None)\n",
    "city1.get_localization()\n",
    "city1.get_road(1,[2,3,4],[True, True, True])\n",
    "city1.show_city()\n",
    "city2 = Cities(2, None, None)\n",
    "city2.get_localization()\n",
    "city2.get_road(2,[1,3,4],[True, True, True])\n",
    "city2.show_city()\n",
    "city3 = Cities(3, None, None)\n",
    "city3.get_localization()\n",
    "city3.get_road(3,[1,2,4],[True, True, True])\n",
    "city3.show_city()\n",
    "city4 = Cities(4, None, None)\n",
    "city4.get_localization()\n",
    "city4.get_road(4,[1,2],[True, True, True])\n",
    "city4.show_city()"
   ]
  },
  {
   "cell_type": "code",
   "execution_count": 24,
   "metadata": {},
   "outputs": [],
   "source": [
    "dic1 = city1.neighbours\n",
    "dic2 = city2.neighbours\n",
    "dic3 = city3.neighbours\n",
    "dic4 = city4.neighbours\n",
    "tree = dic1 | dic2 | dic3 | dic4\n",
    "\n",
    "visited = set()\n",
    "combos = []\n",
    "def dfs(visited, tree, node,combos):\n",
    "    if node not in visited:\n",
    "        visited.add(node)\n",
    "        combos.append(node)\n",
    "        "
   ]
  },
  {
   "cell_type": "code",
   "execution_count": 28,
   "metadata": {},
   "outputs": [
    {
     "data": {
      "text/plain": [
       "[1, 1]"
      ]
     },
     "execution_count": 28,
     "metadata": {},
     "output_type": "execute_result"
    }
   ],
   "source": [
    "combos.pop()\n",
    "combos"
   ]
  }
 ],
 "metadata": {
  "kernelspec": {
   "display_name": "base",
   "language": "python",
   "name": "python3"
  },
  "language_info": {
   "codemirror_mode": {
    "name": "ipython",
    "version": 3
   },
   "file_extension": ".py",
   "mimetype": "text/x-python",
   "name": "python",
   "nbconvert_exporter": "python",
   "pygments_lexer": "ipython3",
   "version": "3.9.13"
  },
  "orig_nbformat": 4
 },
 "nbformat": 4,
 "nbformat_minor": 2
}
